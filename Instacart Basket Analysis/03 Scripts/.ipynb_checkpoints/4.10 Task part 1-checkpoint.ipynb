{
 "cells": [
  {
   "cell_type": "markdown",
   "id": "612f3c55",
   "metadata": {},
   "source": [
    "# 1. Import libraries"
   ]
  },
  {
   "cell_type": "code",
   "execution_count": 1,
   "id": "72deaa9d",
   "metadata": {},
   "outputs": [],
   "source": [
    "#Import libraries\n",
    "import pandas as pd\n",
    "import numpy as np\n",
    "import os\n",
    "import matplotlib.pyplot as plt\n",
    "import seaborn as sns\n",
    "import scipy"
   ]
  },
  {
   "cell_type": "markdown",
   "id": "cfcb1b36",
   "metadata": {},
   "source": [
    "# 2. Import data"
   ]
  },
  {
   "cell_type": "code",
   "execution_count": 2,
   "id": "64027257",
   "metadata": {},
   "outputs": [],
   "source": [
    "#Define path\n",
    "path = r'C:\\Users\\astat\\Documents\\Instacart Basket Analysis'"
   ]
  },
  {
   "cell_type": "code",
   "execution_count": 3,
   "id": "cebdd275",
   "metadata": {},
   "outputs": [],
   "source": [
    "orders_products_customers = pd.read_pickle(os.path.join(path, '02 Data', 'Prepared Data', 'orders_products_customers.pkl'))"
   ]
  },
  {
   "cell_type": "code",
   "execution_count": 4,
   "id": "51b9253e",
   "metadata": {},
   "outputs": [
    {
     "data": {
      "text/html": [
       "<div>\n",
       "<style scoped>\n",
       "    .dataframe tbody tr th:only-of-type {\n",
       "        vertical-align: middle;\n",
       "    }\n",
       "\n",
       "    .dataframe tbody tr th {\n",
       "        vertical-align: top;\n",
       "    }\n",
       "\n",
       "    .dataframe thead th {\n",
       "        text-align: right;\n",
       "    }\n",
       "</style>\n",
       "<table border=\"1\" class=\"dataframe\">\n",
       "  <thead>\n",
       "    <tr style=\"text-align: right;\">\n",
       "      <th></th>\n",
       "      <th>user_id</th>\n",
       "      <th>first_name</th>\n",
       "      <th>surname</th>\n",
       "      <th>gender</th>\n",
       "      <th>state</th>\n",
       "      <th>age</th>\n",
       "      <th>date_joined</th>\n",
       "      <th>number_of_dependants</th>\n",
       "      <th>family_status</th>\n",
       "      <th>income</th>\n",
       "      <th>...</th>\n",
       "      <th>busiest_day</th>\n",
       "      <th>busiest_days</th>\n",
       "      <th>busiest_period_of_day</th>\n",
       "      <th>max_order</th>\n",
       "      <th>loyalty_flag</th>\n",
       "      <th>mean_spending</th>\n",
       "      <th>spending_flag</th>\n",
       "      <th>order_frequency</th>\n",
       "      <th>frequency_flag</th>\n",
       "      <th>_merge</th>\n",
       "    </tr>\n",
       "  </thead>\n",
       "  <tbody>\n",
       "    <tr>\n",
       "      <th>0</th>\n",
       "      <td>26711</td>\n",
       "      <td>Deborah</td>\n",
       "      <td>Esquivel</td>\n",
       "      <td>Female</td>\n",
       "      <td>Missouri</td>\n",
       "      <td>48</td>\n",
       "      <td>1/1/2017</td>\n",
       "      <td>3</td>\n",
       "      <td>married</td>\n",
       "      <td>165665</td>\n",
       "      <td>...</td>\n",
       "      <td>Regularly busy</td>\n",
       "      <td>Busiest days</td>\n",
       "      <td>Most orders</td>\n",
       "      <td>8</td>\n",
       "      <td>New customer</td>\n",
       "      <td>7.988281</td>\n",
       "      <td>Low spender</td>\n",
       "      <td>19.0</td>\n",
       "      <td>Regular customer</td>\n",
       "      <td>both</td>\n",
       "    </tr>\n",
       "    <tr>\n",
       "      <th>1</th>\n",
       "      <td>26711</td>\n",
       "      <td>Deborah</td>\n",
       "      <td>Esquivel</td>\n",
       "      <td>Female</td>\n",
       "      <td>Missouri</td>\n",
       "      <td>48</td>\n",
       "      <td>1/1/2017</td>\n",
       "      <td>3</td>\n",
       "      <td>married</td>\n",
       "      <td>165665</td>\n",
       "      <td>...</td>\n",
       "      <td>Regularly busy</td>\n",
       "      <td>Regularly busy</td>\n",
       "      <td>Most orders</td>\n",
       "      <td>8</td>\n",
       "      <td>New customer</td>\n",
       "      <td>7.988281</td>\n",
       "      <td>Low spender</td>\n",
       "      <td>19.0</td>\n",
       "      <td>Regular customer</td>\n",
       "      <td>both</td>\n",
       "    </tr>\n",
       "    <tr>\n",
       "      <th>2</th>\n",
       "      <td>26711</td>\n",
       "      <td>Deborah</td>\n",
       "      <td>Esquivel</td>\n",
       "      <td>Female</td>\n",
       "      <td>Missouri</td>\n",
       "      <td>48</td>\n",
       "      <td>1/1/2017</td>\n",
       "      <td>3</td>\n",
       "      <td>married</td>\n",
       "      <td>165665</td>\n",
       "      <td>...</td>\n",
       "      <td>Regularly busy</td>\n",
       "      <td>Busiest days</td>\n",
       "      <td>Most orders</td>\n",
       "      <td>8</td>\n",
       "      <td>New customer</td>\n",
       "      <td>7.988281</td>\n",
       "      <td>Low spender</td>\n",
       "      <td>19.0</td>\n",
       "      <td>Regular customer</td>\n",
       "      <td>both</td>\n",
       "    </tr>\n",
       "    <tr>\n",
       "      <th>3</th>\n",
       "      <td>26711</td>\n",
       "      <td>Deborah</td>\n",
       "      <td>Esquivel</td>\n",
       "      <td>Female</td>\n",
       "      <td>Missouri</td>\n",
       "      <td>48</td>\n",
       "      <td>1/1/2017</td>\n",
       "      <td>3</td>\n",
       "      <td>married</td>\n",
       "      <td>165665</td>\n",
       "      <td>...</td>\n",
       "      <td>Regularly busy</td>\n",
       "      <td>Regularly busy</td>\n",
       "      <td>Most orders</td>\n",
       "      <td>8</td>\n",
       "      <td>New customer</td>\n",
       "      <td>7.988281</td>\n",
       "      <td>Low spender</td>\n",
       "      <td>19.0</td>\n",
       "      <td>Regular customer</td>\n",
       "      <td>both</td>\n",
       "    </tr>\n",
       "    <tr>\n",
       "      <th>4</th>\n",
       "      <td>26711</td>\n",
       "      <td>Deborah</td>\n",
       "      <td>Esquivel</td>\n",
       "      <td>Female</td>\n",
       "      <td>Missouri</td>\n",
       "      <td>48</td>\n",
       "      <td>1/1/2017</td>\n",
       "      <td>3</td>\n",
       "      <td>married</td>\n",
       "      <td>165665</td>\n",
       "      <td>...</td>\n",
       "      <td>Regularly busy</td>\n",
       "      <td>Least busy days</td>\n",
       "      <td>Most orders</td>\n",
       "      <td>8</td>\n",
       "      <td>New customer</td>\n",
       "      <td>7.988281</td>\n",
       "      <td>Low spender</td>\n",
       "      <td>19.0</td>\n",
       "      <td>Regular customer</td>\n",
       "      <td>both</td>\n",
       "    </tr>\n",
       "  </tbody>\n",
       "</table>\n",
       "<p>5 rows × 33 columns</p>\n",
       "</div>"
      ],
      "text/plain": [
       "   user_id first_name   surname  gender     state  age date_joined  \\\n",
       "0    26711    Deborah  Esquivel  Female  Missouri   48    1/1/2017   \n",
       "1    26711    Deborah  Esquivel  Female  Missouri   48    1/1/2017   \n",
       "2    26711    Deborah  Esquivel  Female  Missouri   48    1/1/2017   \n",
       "3    26711    Deborah  Esquivel  Female  Missouri   48    1/1/2017   \n",
       "4    26711    Deborah  Esquivel  Female  Missouri   48    1/1/2017   \n",
       "\n",
       "   number_of_dependants family_status  income  ...     busiest_day  \\\n",
       "0                     3       married  165665  ...  Regularly busy   \n",
       "1                     3       married  165665  ...  Regularly busy   \n",
       "2                     3       married  165665  ...  Regularly busy   \n",
       "3                     3       married  165665  ...  Regularly busy   \n",
       "4                     3       married  165665  ...  Regularly busy   \n",
       "\n",
       "      busiest_days  busiest_period_of_day  max_order  loyalty_flag  \\\n",
       "0     Busiest days            Most orders          8  New customer   \n",
       "1   Regularly busy            Most orders          8  New customer   \n",
       "2     Busiest days            Most orders          8  New customer   \n",
       "3   Regularly busy            Most orders          8  New customer   \n",
       "4  Least busy days            Most orders          8  New customer   \n",
       "\n",
       "   mean_spending  spending_flag  order_frequency    frequency_flag  _merge  \n",
       "0       7.988281    Low spender             19.0  Regular customer    both  \n",
       "1       7.988281    Low spender             19.0  Regular customer    both  \n",
       "2       7.988281    Low spender             19.0  Regular customer    both  \n",
       "3       7.988281    Low spender             19.0  Regular customer    both  \n",
       "4       7.988281    Low spender             19.0  Regular customer    both  \n",
       "\n",
       "[5 rows x 33 columns]"
      ]
     },
     "execution_count": 4,
     "metadata": {},
     "output_type": "execute_result"
    }
   ],
   "source": [
    "orders_products_customers.head()"
   ]
  },
  {
   "cell_type": "markdown",
   "id": "a75e3a0b",
   "metadata": {},
   "source": [
    "# 3. Security concerns"
   ]
  },
  {
   "cell_type": "markdown",
   "id": "99629173",
   "metadata": {},
   "source": [
    "Security implications\n",
    "- Customers full names are saved in the data set, together with their age income and number of dependents. The full names of the customers are not necessary for this analysis, so they should be dropped, in light of privacy concerns."
   ]
  },
  {
   "cell_type": "code",
   "execution_count": 5,
   "id": "08b31a54",
   "metadata": {},
   "outputs": [],
   "source": [
    "#Dropping customer name variables\n",
    "orders_products_customers = orders_products_customers.drop(columns = ['first_name', 'surname'])"
   ]
  },
  {
   "cell_type": "markdown",
   "id": "f1e2f828",
   "metadata": {},
   "source": [
    "# 4. Region variable"
   ]
  },
  {
   "cell_type": "code",
   "execution_count": 17,
   "id": "ab6520e2",
   "metadata": {},
   "outputs": [],
   "source": [
    "#Creating region variable using a loop\n",
    "result = []\n",
    "\n",
    "for value in orders_products_customers['state']:\n",
    "    if value == \"Maine\":\n",
    "        result.append(\"Northeast\")\n",
    "    elif value == \"New Hampshire\":\n",
    "        result.append(\"Northeast\")\n",
    "    elif value == \"Vermont\":\n",
    "        result.append(\"Northeast\")\n",
    "    elif value == \"Massachusetts\":\n",
    "        result.append(\"Northeast\")\n",
    "    elif value == \"Rhode Island\":\n",
    "        result.append(\"Northeast\")\n",
    "    elif value == \"Connecticut\":\n",
    "        result.append(\"Northeast\")\n",
    "    elif value == \"New York\":\n",
    "        result.append(\"Northeast\")\n",
    "    elif value == \"Pennsulvania\":\n",
    "        result.append(\"Northeast\")\n",
    "    elif value == \"New Jersey\":\n",
    "        result.append(\"Northeast\")\n",
    "    elif value == \"Wisconsin\":\n",
    "        result.append(\"Midwest\")\n",
    "    elif value == \"Michigan\":\n",
    "        result.append(\"Midwest\")\n",
    "    elif value == \"Illinois\":\n",
    "        result.append(\"Midwest\")\n",
    "    elif value == \"Indiana\":\n",
    "        result.append(\"Midwest\")\n",
    "    elif value == \"Ohio\":\n",
    "        result.append(\"Midwest\")\n",
    "    elif value == \"North Dakota\":\n",
    "        result.append(\"Midwest\")\n",
    "    elif value == \"South Dakota\":\n",
    "        result.append(\"Midwest\")\n",
    "    elif value == \"Nebraska\":\n",
    "        result.append(\"Midwest\")\n",
    "    elif value == \"Kansas\":\n",
    "        result.append(\"Midwest\")\n",
    "    elif value == \"Minnesota\" :\n",
    "        result.append(\"Midwest\")\n",
    "    elif value == \"Iowa\":\n",
    "        result.append(\"Midwest\")\n",
    "    elif value == \"Missouri\":\n",
    "        result.append(\"Midwest\")\n",
    "    elif value == \"Idaho\":\n",
    "        result.append(\"West\")\n",
    "    elif value == \"Montana\":\n",
    "        result.append(\"West\")\n",
    "    elif value == \"Wyoming\":\n",
    "        result.append(\"West\")\n",
    "    elif value == \"Nevada\":\n",
    "        result.append(\"West\")\n",
    "    elif value == \"Utah\":\n",
    "        result.append(\"West\")\n",
    "    elif value == \"Colorado\":\n",
    "        result.append(\"West\")\n",
    "    elif value == \"Arizona\":\n",
    "        result.append(\"West\")\n",
    "    elif value == \"New Mexico\":\n",
    "        result.append(\"West\")\n",
    "    elif value == \"Alaska\":\n",
    "        result.append(\"West\")\n",
    "    elif value == \"Washington\":\n",
    "        result.append(\"West\")\n",
    "    elif value == \"Oregon\":\n",
    "        result.append(\"West\")\n",
    "    elif value == \"California\":\n",
    "        result.append(\"West\")\n",
    "    elif value == \"Hawaii\":\n",
    "        result.append(\"West\")\n",
    "    else:\n",
    "        result.append(\"South\")"
   ]
  },
  {
   "cell_type": "code",
   "execution_count": 18,
   "id": "a287ad80",
   "metadata": {},
   "outputs": [],
   "source": [
    "orders_products_customers['region'] = result"
   ]
  },
  {
   "cell_type": "code",
   "execution_count": 19,
   "id": "f7744cac",
   "metadata": {},
   "outputs": [
    {
     "data": {
      "text/plain": [
       "South        11458967\n",
       "West          8292913\n",
       "Midwest       7597325\n",
       "Northeast     5055654\n",
       "Name: region, dtype: int64"
      ]
     },
     "execution_count": 19,
     "metadata": {},
     "output_type": "execute_result"
    }
   ],
   "source": [
    "orders_products_customers['region'].value_counts(dropna = False)"
   ]
  },
  {
   "cell_type": "markdown",
   "id": "82e3263f",
   "metadata": {},
   "source": [
    "# 5. Regional spendig habits"
   ]
  },
  {
   "cell_type": "code",
   "execution_count": 23,
   "id": "bf0fe2f8",
   "metadata": {},
   "outputs": [],
   "source": [
    "crosstab = pd.crosstab(orders_products_customers['region'], orders_products_customers['spending_flag'], dropna = False)"
   ]
  },
  {
   "cell_type": "code",
   "execution_count": 24,
   "id": "81c3d175",
   "metadata": {},
   "outputs": [],
   "source": [
    "crosstab.to_clipboard()"
   ]
  },
  {
   "cell_type": "markdown",
   "id": "b60eecbc",
   "metadata": {},
   "source": [
    "Spending habits are similar across the regions. More than 99% are low spenders."
   ]
  },
  {
   "cell_type": "markdown",
   "id": "3201f16d",
   "metadata": {},
   "source": [
    "# 6. Low activity customers"
   ]
  },
  {
   "cell_type": "code",
   "execution_count": 26,
   "id": "26ee0dfb",
   "metadata": {},
   "outputs": [],
   "source": [
    "#Adding spending flags\n",
    "orders_products_customers.loc[orders_products_customers['max_order'] < 5, 'activity_flag'] = 'Low activity'"
   ]
  },
  {
   "cell_type": "code",
   "execution_count": 27,
   "id": "e60b2768",
   "metadata": {},
   "outputs": [],
   "source": [
    "orders_products_customers.loc[orders_products_customers['max_order'] >= 5, 'activity_flag'] = 'High activity'"
   ]
  },
  {
   "cell_type": "code",
   "execution_count": 63,
   "id": "edd76a79",
   "metadata": {},
   "outputs": [
    {
     "data": {
      "text/plain": [
       "High activity    30964564\n",
       "Low activity      1440295\n",
       "Name: activity_flag, dtype: int64"
      ]
     },
     "execution_count": 63,
     "metadata": {},
     "output_type": "execute_result"
    }
   ],
   "source": [
    "orders_products_customers['activity_flag'].value_counts(dropna = False)"
   ]
  },
  {
   "cell_type": "code",
   "execution_count": 64,
   "id": "ccf1d28a",
   "metadata": {},
   "outputs": [],
   "source": [
    "#creating subset\n",
    "subset_high_activity = orders_products_customers[orders_products_customers['activity_flag']==\"High activity\"]"
   ]
  },
  {
   "cell_type": "code",
   "execution_count": 65,
   "id": "ef285d7a",
   "metadata": {},
   "outputs": [
    {
     "data": {
      "text/plain": [
       "(30964564, 35)"
      ]
     },
     "execution_count": 65,
     "metadata": {},
     "output_type": "execute_result"
    }
   ],
   "source": [
    "subset_high_activity.shape"
   ]
  },
  {
   "cell_type": "code",
   "execution_count": 66,
   "id": "8a8ab2f9",
   "metadata": {},
   "outputs": [],
   "source": [
    "subset_high_activity.to_pickle(os.path.join(path, '02 Data', 'Prepared Data', 'orders_products_customers_subset_activity.pkl'))"
   ]
  },
  {
   "cell_type": "markdown",
   "id": "22f4013d",
   "metadata": {},
   "source": [
    "# 7. Profiling"
   ]
  },
  {
   "cell_type": "code",
   "execution_count": 46,
   "id": "8841d8b4",
   "metadata": {},
   "outputs": [],
   "source": [
    "#Single adults\n",
    "#age > 18, number_of_dependents = 0\n",
    "orders_products_customers.loc[(orders_products_customers['age'] > 18) & (orders_products_customers['number_of_dependants'] == 0), 'profile'] = \"Single adult\""
   ]
  },
  {
   "cell_type": "code",
   "execution_count": 55,
   "id": "24613b6c",
   "metadata": {},
   "outputs": [],
   "source": [
    "#Elderly couple\n",
    "#age > 65, family_status == \"Married\"\n",
    "orders_products_customers.loc[(orders_products_customers['age']<=65) & (orders_products_customers['family_status'] == \"married\"), 'profile'] = \"Elderly couple\""
   ]
  },
  {
   "cell_type": "code",
   "execution_count": 34,
   "id": "e137eccd",
   "metadata": {},
   "outputs": [],
   "source": [
    "pd.set_option('display.float_format', lambda x: '%.3f' % x)"
   ]
  },
  {
   "cell_type": "code",
   "execution_count": 35,
   "id": "97d702e0",
   "metadata": {},
   "outputs": [
    {
     "data": {
      "text/plain": [
       "count   32404859.00000\n",
       "mean       99437.73329\n",
       "std        43057.27254\n",
       "min        25903.00000\n",
       "25%        67004.00000\n",
       "50%        96618.00000\n",
       "75%       127912.00000\n",
       "max       593901.00000\n",
       "Name: income, dtype: float64"
      ]
     },
     "execution_count": 35,
     "metadata": {},
     "output_type": "execute_result"
    }
   ],
   "source": [
    "orders_products_customers['income'].describe()"
   ]
  },
  {
   "cell_type": "code",
   "execution_count": 56,
   "id": "9dbb21ed",
   "metadata": {},
   "outputs": [],
   "source": [
    "#Low income family\n",
    "#income < 67000, family_status = \"Married\"\n",
    "orders_products_customers.loc[(orders_products_customers['income']<=67000) & (orders_products_customers['family_status'] == \"married\"), 'profile'] = \"Low Income Family\""
   ]
  },
  {
   "cell_type": "code",
   "execution_count": 47,
   "id": "3d9e3476",
   "metadata": {},
   "outputs": [],
   "source": [
    "#Young parents\n",
    "#30 > age > 22, number_of_dependants > 0, department_id = 18\n",
    "orders_products_customers.loc[(orders_products_customers['age'] > 21) & (orders_products_customers['age'] <= 30) & (orders_products_customers['number_of_dependants'] >= 1) & (orders_products_customers['department_id'] == 18) , 'profile'] = \"Young parent\""
   ]
  },
  {
   "cell_type": "code",
   "execution_count": 57,
   "id": "6c562970",
   "metadata": {},
   "outputs": [
    {
     "data": {
      "text/plain": [
       "Elderly couple       12086278\n",
       "Single adult          7972187\n",
       "NaN                   6960890\n",
       "Low Income Family     5385504\n",
       "Name: profile, dtype: int64"
      ]
     },
     "execution_count": 57,
     "metadata": {},
     "output_type": "execute_result"
    }
   ],
   "source": [
    "orders_products_customers['profile'].value_counts(dropna = False)"
   ]
  },
  {
   "cell_type": "markdown",
   "id": "11c90359",
   "metadata": {},
   "source": [
    "All Young parents are also Low Income families."
   ]
  },
  {
   "cell_type": "markdown",
   "id": "785b37e5",
   "metadata": {},
   "source": [
    "# 8. Profile distribution"
   ]
  },
  {
   "cell_type": "code",
   "execution_count": 58,
   "id": "a5676383",
   "metadata": {},
   "outputs": [
    {
     "data": {
      "image/png": "[encoded data removed]",
      "text/plain": [
       "<Figure size 432x288 with 1 Axes>"
      ]
     },
     "metadata": {
      "needs_background": "light"
     },
     "output_type": "display_data"
    }
   ],
   "source": [
    "#Bar chart\n",
    "bar = orders_products_customers['profile'].value_counts().sort_index().plot.bar()"
   ]
  },
  {
   "cell_type": "code",
   "execution_count": 78,
   "id": "4cfd4369",
   "metadata": {},
   "outputs": [],
   "source": [
    "bar.figure.savefig(os.path.join(path, '04 Analysis','Visualisations', 'bar_profile.png'))"
   ]
  },
  {
   "cell_type": "markdown",
   "id": "ce14564d",
   "metadata": {},
   "source": [
    "# 9. Profile descriptive"
   ]
  },
  {
   "cell_type": "code",
   "execution_count": 60,
   "id": "0d0f8c93",
   "metadata": {},
   "outputs": [],
   "source": [
    "#Spending\n",
    "orders_products_customers['spending'] = orders_products_customers.groupby(['user_id'])['prices'].transform(np.sum)"
   ]
  },
  {
   "cell_type": "code",
   "execution_count": 61,
   "id": "2d8ac96d",
   "metadata": {},
   "outputs": [
    {
     "data": {
      "text/html": [
       "<div>\n",
       "<style scoped>\n",
       "    .dataframe tbody tr th:only-of-type {\n",
       "        vertical-align: middle;\n",
       "    }\n",
       "\n",
       "    .dataframe tbody tr th {\n",
       "        vertical-align: top;\n",
       "    }\n",
       "\n",
       "    .dataframe thead tr th {\n",
       "        text-align: left;\n",
       "    }\n",
       "\n",
       "    .dataframe thead tr:last-of-type th {\n",
       "        text-align: right;\n",
       "    }\n",
       "</style>\n",
       "<table border=\"1\" class=\"dataframe\">\n",
       "  <thead>\n",
       "    <tr>\n",
       "      <th></th>\n",
       "      <th colspan=\"3\" halign=\"left\">spending</th>\n",
       "    </tr>\n",
       "    <tr>\n",
       "      <th></th>\n",
       "      <th>mean</th>\n",
       "      <th>min</th>\n",
       "      <th>max</th>\n",
       "    </tr>\n",
       "    <tr>\n",
       "      <th>profile</th>\n",
       "      <th></th>\n",
       "      <th></th>\n",
       "      <th></th>\n",
       "    </tr>\n",
       "  </thead>\n",
       "  <tbody>\n",
       "    <tr>\n",
       "      <th>Elderly couple</th>\n",
       "      <td>3406.21216</td>\n",
       "      <td>21.10000</td>\n",
       "      <td>22696.90039</td>\n",
       "    </tr>\n",
       "    <tr>\n",
       "      <th>Low Income Family</th>\n",
       "      <td>2873.20923</td>\n",
       "      <td>3.00000</td>\n",
       "      <td>18910.00000</td>\n",
       "    </tr>\n",
       "    <tr>\n",
       "      <th>Single adult</th>\n",
       "      <td>3291.80225</td>\n",
       "      <td>3.00000</td>\n",
       "      <td>24307.09961</td>\n",
       "    </tr>\n",
       "  </tbody>\n",
       "</table>\n",
       "</div>"
      ],
      "text/plain": [
       "                    spending                     \n",
       "                        mean      min         max\n",
       "profile                                          \n",
       "Elderly couple    3406.21216 21.10000 22696.90039\n",
       "Low Income Family 2873.20923  3.00000 18910.00000\n",
       "Single adult      3291.80225  3.00000 24307.09961"
      ]
     },
     "execution_count": 61,
     "metadata": {},
     "output_type": "execute_result"
    }
   ],
   "source": [
    "#Group for spending\n",
    "orders_products_customers.groupby('profile').agg({'spending': ['mean', 'min', 'max']})"
   ]
  },
  {
   "cell_type": "code",
   "execution_count": 62,
   "id": "c5876d39",
   "metadata": {},
   "outputs": [
    {
     "data": {
      "text/html": [
       "<div>\n",
       "<style scoped>\n",
       "    .dataframe tbody tr th:only-of-type {\n",
       "        vertical-align: middle;\n",
       "    }\n",
       "\n",
       "    .dataframe tbody tr th {\n",
       "        vertical-align: top;\n",
       "    }\n",
       "\n",
       "    .dataframe thead tr th {\n",
       "        text-align: left;\n",
       "    }\n",
       "\n",
       "    .dataframe thead tr:last-of-type th {\n",
       "        text-align: right;\n",
       "    }\n",
       "</style>\n",
       "<table border=\"1\" class=\"dataframe\">\n",
       "  <thead>\n",
       "    <tr>\n",
       "      <th></th>\n",
       "      <th colspan=\"3\" halign=\"left\">order_frequency</th>\n",
       "    </tr>\n",
       "    <tr>\n",
       "      <th></th>\n",
       "      <th>mean</th>\n",
       "      <th>min</th>\n",
       "      <th>max</th>\n",
       "    </tr>\n",
       "    <tr>\n",
       "      <th>profile</th>\n",
       "      <th></th>\n",
       "      <th></th>\n",
       "      <th></th>\n",
       "    </tr>\n",
       "  </thead>\n",
       "  <tbody>\n",
       "    <tr>\n",
       "      <th>Elderly couple</th>\n",
       "      <td>10.32031</td>\n",
       "      <td>0.00000</td>\n",
       "      <td>30.00000</td>\n",
       "    </tr>\n",
       "    <tr>\n",
       "      <th>Low Income Family</th>\n",
       "      <td>10.76562</td>\n",
       "      <td>0.00000</td>\n",
       "      <td>30.00000</td>\n",
       "    </tr>\n",
       "    <tr>\n",
       "      <th>Single adult</th>\n",
       "      <td>10.35938</td>\n",
       "      <td>0.00000</td>\n",
       "      <td>30.00000</td>\n",
       "    </tr>\n",
       "  </tbody>\n",
       "</table>\n",
       "</div>"
      ],
      "text/plain": [
       "                  order_frequency                 \n",
       "                             mean     min      max\n",
       "profile                                           \n",
       "Elderly couple           10.32031 0.00000 30.00000\n",
       "Low Income Family        10.76562 0.00000 30.00000\n",
       "Single adult             10.35938 0.00000 30.00000"
      ]
     },
     "execution_count": 62,
     "metadata": {},
     "output_type": "execute_result"
    }
   ],
   "source": [
    "#Group for frequency\n",
    "orders_products_customers.groupby('profile').agg({'order_frequency': ['mean', 'min', 'max']})"
   ]
  },
  {
   "cell_type": "markdown",
   "id": "9cc3c3c4",
   "metadata": {},
   "source": [
    "# 10.1 Profiles across regions"
   ]
  },
  {
   "cell_type": "code",
   "execution_count": 67,
   "id": "ad3d92e9",
   "metadata": {},
   "outputs": [],
   "source": [
    "ct_region_profiles = pd.crosstab(orders_products_customers['region'], orders_products_customers['profile'], dropna = False)"
   ]
  },
  {
   "cell_type": "code",
   "execution_count": 75,
   "id": "15f47a35",
   "metadata": {},
   "outputs": [
    {
     "data": {
      "image/png": "[encoded data removed]",
      "text/plain": [
       "<Figure size 432x288 with 1 Axes>"
      ]
     },
     "metadata": {
      "needs_background": "light"
     },
     "output_type": "display_data"
    }
   ],
   "source": [
    "reg_profile_bar = ct_region_profiles.plot(kind='bar', stacked=True,\n",
    "        title='Customer profiles by region')"
   ]
  },
  {
   "cell_type": "code",
   "execution_count": 79,
   "id": "b1953b0b",
   "metadata": {},
   "outputs": [],
   "source": [
    "reg_profile_bar.figure.savefig(os.path.join(path, '04 Analysis','Visualisations', 'bar_region_profile.png'))"
   ]
  },
  {
   "cell_type": "markdown",
   "id": "0415444f",
   "metadata": {},
   "source": [
    "# 10.2 Profiles across departments"
   ]
  },
  {
   "cell_type": "code",
   "execution_count": 73,
   "id": "17297e8d",
   "metadata": {},
   "outputs": [],
   "source": [
    "ct_dep_profiles = pd.crosstab(orders_products_customers['department_id'], orders_products_customers['profile'], dropna = False)"
   ]
  },
  {
   "cell_type": "code",
   "execution_count": 81,
   "id": "31ad5c25",
   "metadata": {},
   "outputs": [
    {
     "data": {
      "image/png": "[encoded data removed]",
      "text/plain": [
       "<Figure size 432x288 with 1 Axes>"
      ]
     },
     "metadata": {
      "needs_background": "light"
     },
     "output_type": "display_data"
    }
   ],
   "source": [
    "dep_profile_bar = ct_dep_profiles.plot(kind='bar', stacked=True,\n",
    "        title='Customer profiles by department')"
   ]
  },
  {
   "cell_type": "code",
   "execution_count": 82,
   "id": "aed3d571",
   "metadata": {},
   "outputs": [],
   "source": [
    "dep_profile_bar.figure.savefig(os.path.join(path, '04 Analysis','Visualisations', 'bar_dep_profile.png'))"
   ]
  },
  {
   "cell_type": "markdown",
   "id": "6f4fc85b",
   "metadata": {},
   "source": [
    "# 11. Export data"
   ]
  },
  {
   "cell_type": "code",
   "execution_count": 84,
   "id": "3cce7a2b",
   "metadata": {},
   "outputs": [],
   "source": [
    "# Export data to pkl\n",
    "orders_products_customers.to_pickle(os.path.join(path, '02 Data','Prepared Data', 'orders_products_all.pkl'))"
   ]
  },
  {
   "cell_type": "code",
   "execution_count": null,
   "id": "97d3164c",
   "metadata": {},
   "outputs": [],
   "source": []
  }
 ],
 "metadata": {
  "kernelspec": {
   "display_name": "Python 3 (ipykernel)",
   "language": "python",
   "name": "python3"
  },
  "language_info": {
   "codemirror_mode": {
    "name": "ipython",
    "version": 3
   },
   "file_extension": ".py",
   "mimetype": "text/x-python",
   "name": "python",
   "nbconvert_exporter": "python",
   "pygments_lexer": "ipython3",
   "version": "3.9.12"
  }
 },
 "nbformat": 4,
 "nbformat_minor": 5
}
