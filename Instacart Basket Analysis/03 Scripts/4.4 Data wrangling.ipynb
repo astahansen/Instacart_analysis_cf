{
 "cells": [
  {
   "cell_type": "markdown",
   "id": "e98c9b6b",
   "metadata": {},
   "source": [
    "# 01. Importing Libraries"
   ]
  },
  {
   "cell_type": "code",
   "execution_count": 1,
   "id": "dc06c540",
   "metadata": {},
   "outputs": [],
   "source": [
    "#Importing libraries\n",
    "import pandas as pd\n",
    "import numpy as np\n",
    "import os"
   ]
  },
  {
   "cell_type": "markdown",
   "id": "45c0a44e",
   "metadata": {},
   "source": [
    "# 02. Importing data"
   ]
  },
  {
   "cell_type": "code",
   "execution_count": 2,
   "id": "f9121b2c",
   "metadata": {},
   "outputs": [],
   "source": [
    "#Defining path \n",
    "path = r'C:\\Users\\astat\\Documents\\Instacart Basket Analysis'"
   ]
  },
  {
   "cell_type": "code",
   "execution_count": 4,
   "id": "3b800005",
   "metadata": {},
   "outputs": [],
   "source": [
    "#Importing data\n",
    "df_ords = pd.read_csv(os.path.join(path, '02 Data', 'Original Data', 'orders.csv'), index_col = False)\n",
    "df_prods = pd.read_csv(os.path.join (path, '02 Data', 'Original Data', 'products.csv'), index_col = False)"
   ]
  },
  {
   "cell_type": "markdown",
   "id": "ee3d849c",
   "metadata": {},
   "source": [
    "# 03. Data wrangling - Exercise"
   ]
  },
  {
   "cell_type": "code",
   "execution_count": 6,
   "id": "37e55cab",
   "metadata": {},
   "outputs": [],
   "source": [
    "#Dropping eval_set variable from orders.csv\n",
    "df_ords = df_ords.drop(columns = ['eval_set'])"
   ]
  },
  {
   "cell_type": "code",
   "execution_count": 7,
   "id": "01f9c871",
   "metadata": {},
   "outputs": [
    {
     "data": {
      "text/plain": [
       "30.0    369323\n",
       "7.0     320608\n",
       "6.0     240013\n",
       "4.0     221696\n",
       "3.0     217005\n",
       "5.0     214503\n",
       "NaN     206209\n",
       "2.0     193206\n",
       "8.0     181717\n",
       "1.0     145247\n",
       "9.0     118188\n",
       "14.0    100230\n",
       "10.0     95186\n",
       "13.0     83214\n",
       "11.0     80970\n",
       "12.0     76146\n",
       "0.0      67755\n",
       "15.0     66579\n",
       "16.0     46941\n",
       "21.0     45470\n",
       "17.0     39245\n",
       "20.0     38527\n",
       "18.0     35881\n",
       "19.0     34384\n",
       "22.0     32012\n",
       "28.0     26777\n",
       "23.0     23885\n",
       "27.0     22013\n",
       "24.0     20712\n",
       "25.0     19234\n",
       "29.0     19191\n",
       "26.0     19016\n",
       "Name: days_since_prior_order, dtype: int64"
      ]
     },
     "execution_count": 7,
     "metadata": {},
     "output_type": "execute_result"
    }
   ],
   "source": [
    "#Missing values in days_since_prior_order variable\n",
    "df_ords['days_since_prior_order'].value_counts(dropna = False)"
   ]
  },
  {
   "cell_type": "code",
   "execution_count": 8,
   "id": "bcebf927",
   "metadata": {},
   "outputs": [],
   "source": [
    "#Rename order_dow column\n",
    "df_ords.rename(columns = {'order_dow' : 'orders_day_of_week'}, inplace = True)"
   ]
  },
  {
   "cell_type": "code",
   "execution_count": 9,
   "id": "51690932",
   "metadata": {},
   "outputs": [],
   "source": [
    "#Change order_id to string\n",
    "df_ords['order_id'] = df_ords['order_id'].astype('str')"
   ]
  },
  {
   "cell_type": "code",
   "execution_count": 10,
   "id": "7628cd38",
   "metadata": {},
   "outputs": [
    {
     "data": {
      "text/plain": [
       "dtype('O')"
      ]
     },
     "execution_count": 10,
     "metadata": {},
     "output_type": "execute_result"
    }
   ],
   "source": [
    "df_ords['order_id'].dtype"
   ]
  },
  {
   "cell_type": "markdown",
   "id": "eb517f69",
   "metadata": {},
   "source": [
    "# 04. Importing data 2"
   ]
  },
  {
   "cell_type": "code",
   "execution_count": 11,
   "id": "9ae7a99b",
   "metadata": {},
   "outputs": [],
   "source": [
    "#Import data\n",
    "df_dep = pd.read_csv(os.path.join(path, '02 Data', 'Original Data', 'departments.csv'), index_col = False)"
   ]
  },
  {
   "cell_type": "code",
   "execution_count": 12,
   "id": "68b9532c",
   "metadata": {},
   "outputs": [
    {
     "data": {
      "text/html": [
       "<div>\n",
       "<style scoped>\n",
       "    .dataframe tbody tr th:only-of-type {\n",
       "        vertical-align: middle;\n",
       "    }\n",
       "\n",
       "    .dataframe tbody tr th {\n",
       "        vertical-align: top;\n",
       "    }\n",
       "\n",
       "    .dataframe thead th {\n",
       "        text-align: right;\n",
       "    }\n",
       "</style>\n",
       "<table border=\"1\" class=\"dataframe\">\n",
       "  <thead>\n",
       "    <tr style=\"text-align: right;\">\n",
       "      <th></th>\n",
       "      <th>department_id</th>\n",
       "      <th>1</th>\n",
       "      <th>2</th>\n",
       "      <th>3</th>\n",
       "      <th>4</th>\n",
       "      <th>5</th>\n",
       "      <th>6</th>\n",
       "      <th>7</th>\n",
       "      <th>8</th>\n",
       "      <th>9</th>\n",
       "      <th>...</th>\n",
       "      <th>12</th>\n",
       "      <th>13</th>\n",
       "      <th>14</th>\n",
       "      <th>15</th>\n",
       "      <th>16</th>\n",
       "      <th>17</th>\n",
       "      <th>18</th>\n",
       "      <th>19</th>\n",
       "      <th>20</th>\n",
       "      <th>21</th>\n",
       "    </tr>\n",
       "  </thead>\n",
       "  <tbody>\n",
       "    <tr>\n",
       "      <th>0</th>\n",
       "      <td>department</td>\n",
       "      <td>frozen</td>\n",
       "      <td>other</td>\n",
       "      <td>bakery</td>\n",
       "      <td>produce</td>\n",
       "      <td>alcohol</td>\n",
       "      <td>international</td>\n",
       "      <td>beverages</td>\n",
       "      <td>pets</td>\n",
       "      <td>dry goods pasta</td>\n",
       "      <td>...</td>\n",
       "      <td>meat seafood</td>\n",
       "      <td>pantry</td>\n",
       "      <td>breakfast</td>\n",
       "      <td>canned goods</td>\n",
       "      <td>dairy eggs</td>\n",
       "      <td>household</td>\n",
       "      <td>babies</td>\n",
       "      <td>snacks</td>\n",
       "      <td>deli</td>\n",
       "      <td>missing</td>\n",
       "    </tr>\n",
       "  </tbody>\n",
       "</table>\n",
       "<p>1 rows × 22 columns</p>\n",
       "</div>"
      ],
      "text/plain": [
       "  department_id       1      2       3        4        5              6  \\\n",
       "0    department  frozen  other  bakery  produce  alcohol  international   \n",
       "\n",
       "           7     8                9  ...            12      13         14  \\\n",
       "0  beverages  pets  dry goods pasta  ...  meat seafood  pantry  breakfast   \n",
       "\n",
       "             15          16         17      18      19    20       21  \n",
       "0  canned goods  dairy eggs  household  babies  snacks  deli  missing  \n",
       "\n",
       "[1 rows x 22 columns]"
      ]
     },
     "execution_count": 12,
     "metadata": {},
     "output_type": "execute_result"
    }
   ],
   "source": [
    "df_dep.head()"
   ]
  },
  {
   "cell_type": "markdown",
   "id": "c8327a4e",
   "metadata": {},
   "source": [
    "# 05. Data wrangling - Exercise 2"
   ]
  },
  {
   "cell_type": "code",
   "execution_count": 14,
   "id": "f338bc96",
   "metadata": {},
   "outputs": [],
   "source": [
    "#Transpose departments.csv\n",
    "df_dep_t = df_dep.T"
   ]
  },
  {
   "cell_type": "code",
   "execution_count": 15,
   "id": "18df7234",
   "metadata": {},
   "outputs": [
    {
     "data": {
      "text/html": [
       "<div>\n",
       "<style scoped>\n",
       "    .dataframe tbody tr th:only-of-type {\n",
       "        vertical-align: middle;\n",
       "    }\n",
       "\n",
       "    .dataframe tbody tr th {\n",
       "        vertical-align: top;\n",
       "    }\n",
       "\n",
       "    .dataframe thead th {\n",
       "        text-align: right;\n",
       "    }\n",
       "</style>\n",
       "<table border=\"1\" class=\"dataframe\">\n",
       "  <thead>\n",
       "    <tr style=\"text-align: right;\">\n",
       "      <th></th>\n",
       "      <th>0</th>\n",
       "    </tr>\n",
       "  </thead>\n",
       "  <tbody>\n",
       "    <tr>\n",
       "      <th>department_id</th>\n",
       "      <td>department</td>\n",
       "    </tr>\n",
       "    <tr>\n",
       "      <th>1</th>\n",
       "      <td>frozen</td>\n",
       "    </tr>\n",
       "    <tr>\n",
       "      <th>2</th>\n",
       "      <td>other</td>\n",
       "    </tr>\n",
       "    <tr>\n",
       "      <th>3</th>\n",
       "      <td>bakery</td>\n",
       "    </tr>\n",
       "    <tr>\n",
       "      <th>4</th>\n",
       "      <td>produce</td>\n",
       "    </tr>\n",
       "    <tr>\n",
       "      <th>5</th>\n",
       "      <td>alcohol</td>\n",
       "    </tr>\n",
       "    <tr>\n",
       "      <th>6</th>\n",
       "      <td>international</td>\n",
       "    </tr>\n",
       "    <tr>\n",
       "      <th>7</th>\n",
       "      <td>beverages</td>\n",
       "    </tr>\n",
       "    <tr>\n",
       "      <th>8</th>\n",
       "      <td>pets</td>\n",
       "    </tr>\n",
       "    <tr>\n",
       "      <th>9</th>\n",
       "      <td>dry goods pasta</td>\n",
       "    </tr>\n",
       "    <tr>\n",
       "      <th>10</th>\n",
       "      <td>bulk</td>\n",
       "    </tr>\n",
       "    <tr>\n",
       "      <th>11</th>\n",
       "      <td>personal care</td>\n",
       "    </tr>\n",
       "    <tr>\n",
       "      <th>12</th>\n",
       "      <td>meat seafood</td>\n",
       "    </tr>\n",
       "    <tr>\n",
       "      <th>13</th>\n",
       "      <td>pantry</td>\n",
       "    </tr>\n",
       "    <tr>\n",
       "      <th>14</th>\n",
       "      <td>breakfast</td>\n",
       "    </tr>\n",
       "    <tr>\n",
       "      <th>15</th>\n",
       "      <td>canned goods</td>\n",
       "    </tr>\n",
       "    <tr>\n",
       "      <th>16</th>\n",
       "      <td>dairy eggs</td>\n",
       "    </tr>\n",
       "    <tr>\n",
       "      <th>17</th>\n",
       "      <td>household</td>\n",
       "    </tr>\n",
       "    <tr>\n",
       "      <th>18</th>\n",
       "      <td>babies</td>\n",
       "    </tr>\n",
       "    <tr>\n",
       "      <th>19</th>\n",
       "      <td>snacks</td>\n",
       "    </tr>\n",
       "    <tr>\n",
       "      <th>20</th>\n",
       "      <td>deli</td>\n",
       "    </tr>\n",
       "    <tr>\n",
       "      <th>21</th>\n",
       "      <td>missing</td>\n",
       "    </tr>\n",
       "  </tbody>\n",
       "</table>\n",
       "</div>"
      ],
      "text/plain": [
       "                             0\n",
       "department_id       department\n",
       "1                       frozen\n",
       "2                        other\n",
       "3                       bakery\n",
       "4                      produce\n",
       "5                      alcohol\n",
       "6                international\n",
       "7                    beverages\n",
       "8                         pets\n",
       "9              dry goods pasta\n",
       "10                        bulk\n",
       "11               personal care\n",
       "12                meat seafood\n",
       "13                      pantry\n",
       "14                   breakfast\n",
       "15                canned goods\n",
       "16                  dairy eggs\n",
       "17                   household\n",
       "18                      babies\n",
       "19                      snacks\n",
       "20                        deli\n",
       "21                     missing"
      ]
     },
     "execution_count": 15,
     "metadata": {},
     "output_type": "execute_result"
    }
   ],
   "source": [
    "df_dep_t"
   ]
  },
  {
   "cell_type": "code",
   "execution_count": 16,
   "id": "ec483ed8",
   "metadata": {},
   "outputs": [
    {
     "data": {
      "text/html": [
       "<div>\n",
       "<style scoped>\n",
       "    .dataframe tbody tr th:only-of-type {\n",
       "        vertical-align: middle;\n",
       "    }\n",
       "\n",
       "    .dataframe tbody tr th {\n",
       "        vertical-align: top;\n",
       "    }\n",
       "\n",
       "    .dataframe thead th {\n",
       "        text-align: right;\n",
       "    }\n",
       "</style>\n",
       "<table border=\"1\" class=\"dataframe\">\n",
       "  <thead>\n",
       "    <tr style=\"text-align: right;\">\n",
       "      <th></th>\n",
       "      <th>index</th>\n",
       "      <th>0</th>\n",
       "    </tr>\n",
       "  </thead>\n",
       "  <tbody>\n",
       "    <tr>\n",
       "      <th>0</th>\n",
       "      <td>department_id</td>\n",
       "      <td>department</td>\n",
       "    </tr>\n",
       "    <tr>\n",
       "      <th>1</th>\n",
       "      <td>1</td>\n",
       "      <td>frozen</td>\n",
       "    </tr>\n",
       "    <tr>\n",
       "      <th>2</th>\n",
       "      <td>2</td>\n",
       "      <td>other</td>\n",
       "    </tr>\n",
       "    <tr>\n",
       "      <th>3</th>\n",
       "      <td>3</td>\n",
       "      <td>bakery</td>\n",
       "    </tr>\n",
       "    <tr>\n",
       "      <th>4</th>\n",
       "      <td>4</td>\n",
       "      <td>produce</td>\n",
       "    </tr>\n",
       "    <tr>\n",
       "      <th>5</th>\n",
       "      <td>5</td>\n",
       "      <td>alcohol</td>\n",
       "    </tr>\n",
       "    <tr>\n",
       "      <th>6</th>\n",
       "      <td>6</td>\n",
       "      <td>international</td>\n",
       "    </tr>\n",
       "    <tr>\n",
       "      <th>7</th>\n",
       "      <td>7</td>\n",
       "      <td>beverages</td>\n",
       "    </tr>\n",
       "    <tr>\n",
       "      <th>8</th>\n",
       "      <td>8</td>\n",
       "      <td>pets</td>\n",
       "    </tr>\n",
       "    <tr>\n",
       "      <th>9</th>\n",
       "      <td>9</td>\n",
       "      <td>dry goods pasta</td>\n",
       "    </tr>\n",
       "    <tr>\n",
       "      <th>10</th>\n",
       "      <td>10</td>\n",
       "      <td>bulk</td>\n",
       "    </tr>\n",
       "    <tr>\n",
       "      <th>11</th>\n",
       "      <td>11</td>\n",
       "      <td>personal care</td>\n",
       "    </tr>\n",
       "    <tr>\n",
       "      <th>12</th>\n",
       "      <td>12</td>\n",
       "      <td>meat seafood</td>\n",
       "    </tr>\n",
       "    <tr>\n",
       "      <th>13</th>\n",
       "      <td>13</td>\n",
       "      <td>pantry</td>\n",
       "    </tr>\n",
       "    <tr>\n",
       "      <th>14</th>\n",
       "      <td>14</td>\n",
       "      <td>breakfast</td>\n",
       "    </tr>\n",
       "    <tr>\n",
       "      <th>15</th>\n",
       "      <td>15</td>\n",
       "      <td>canned goods</td>\n",
       "    </tr>\n",
       "    <tr>\n",
       "      <th>16</th>\n",
       "      <td>16</td>\n",
       "      <td>dairy eggs</td>\n",
       "    </tr>\n",
       "    <tr>\n",
       "      <th>17</th>\n",
       "      <td>17</td>\n",
       "      <td>household</td>\n",
       "    </tr>\n",
       "    <tr>\n",
       "      <th>18</th>\n",
       "      <td>18</td>\n",
       "      <td>babies</td>\n",
       "    </tr>\n",
       "    <tr>\n",
       "      <th>19</th>\n",
       "      <td>19</td>\n",
       "      <td>snacks</td>\n",
       "    </tr>\n",
       "    <tr>\n",
       "      <th>20</th>\n",
       "      <td>20</td>\n",
       "      <td>deli</td>\n",
       "    </tr>\n",
       "    <tr>\n",
       "      <th>21</th>\n",
       "      <td>21</td>\n",
       "      <td>missing</td>\n",
       "    </tr>\n",
       "  </tbody>\n",
       "</table>\n",
       "</div>"
      ],
      "text/plain": [
       "            index                0\n",
       "0   department_id       department\n",
       "1               1           frozen\n",
       "2               2            other\n",
       "3               3           bakery\n",
       "4               4          produce\n",
       "5               5          alcohol\n",
       "6               6    international\n",
       "7               7        beverages\n",
       "8               8             pets\n",
       "9               9  dry goods pasta\n",
       "10             10             bulk\n",
       "11             11    personal care\n",
       "12             12     meat seafood\n",
       "13             13           pantry\n",
       "14             14        breakfast\n",
       "15             15     canned goods\n",
       "16             16       dairy eggs\n",
       "17             17        household\n",
       "18             18           babies\n",
       "19             19           snacks\n",
       "20             20             deli\n",
       "21             21          missing"
      ]
     },
     "execution_count": 16,
     "metadata": {},
     "output_type": "execute_result"
    }
   ],
   "source": [
    "#Adding an index\n",
    "df_dep_t.reset_index()"
   ]
  },
  {
   "cell_type": "code",
   "execution_count": 17,
   "id": "6f9833a5",
   "metadata": {},
   "outputs": [],
   "source": [
    "#Creating a new header from first row of df_dep_t\n",
    "new_header = df_dep_t.iloc[0]"
   ]
  },
  {
   "cell_type": "code",
   "execution_count": 18,
   "id": "ada11202",
   "metadata": {},
   "outputs": [
    {
     "data": {
      "text/plain": [
       "0    department\n",
       "Name: department_id, dtype: object"
      ]
     },
     "execution_count": 18,
     "metadata": {},
     "output_type": "execute_result"
    }
   ],
   "source": [
    "new_header"
   ]
  },
  {
   "cell_type": "code",
   "execution_count": 19,
   "id": "67365cac",
   "metadata": {},
   "outputs": [],
   "source": [
    "#Duplicate df_dep_t without first row\n",
    "df_dep_t_new = df_dep_t[1:]"
   ]
  },
  {
   "cell_type": "code",
   "execution_count": 20,
   "id": "a0d5d9bf",
   "metadata": {},
   "outputs": [
    {
     "data": {
      "text/html": [
       "<div>\n",
       "<style scoped>\n",
       "    .dataframe tbody tr th:only-of-type {\n",
       "        vertical-align: middle;\n",
       "    }\n",
       "\n",
       "    .dataframe tbody tr th {\n",
       "        vertical-align: top;\n",
       "    }\n",
       "\n",
       "    .dataframe thead th {\n",
       "        text-align: right;\n",
       "    }\n",
       "</style>\n",
       "<table border=\"1\" class=\"dataframe\">\n",
       "  <thead>\n",
       "    <tr style=\"text-align: right;\">\n",
       "      <th></th>\n",
       "      <th>0</th>\n",
       "    </tr>\n",
       "  </thead>\n",
       "  <tbody>\n",
       "    <tr>\n",
       "      <th>1</th>\n",
       "      <td>frozen</td>\n",
       "    </tr>\n",
       "    <tr>\n",
       "      <th>2</th>\n",
       "      <td>other</td>\n",
       "    </tr>\n",
       "    <tr>\n",
       "      <th>3</th>\n",
       "      <td>bakery</td>\n",
       "    </tr>\n",
       "    <tr>\n",
       "      <th>4</th>\n",
       "      <td>produce</td>\n",
       "    </tr>\n",
       "    <tr>\n",
       "      <th>5</th>\n",
       "      <td>alcohol</td>\n",
       "    </tr>\n",
       "    <tr>\n",
       "      <th>6</th>\n",
       "      <td>international</td>\n",
       "    </tr>\n",
       "    <tr>\n",
       "      <th>7</th>\n",
       "      <td>beverages</td>\n",
       "    </tr>\n",
       "    <tr>\n",
       "      <th>8</th>\n",
       "      <td>pets</td>\n",
       "    </tr>\n",
       "    <tr>\n",
       "      <th>9</th>\n",
       "      <td>dry goods pasta</td>\n",
       "    </tr>\n",
       "    <tr>\n",
       "      <th>10</th>\n",
       "      <td>bulk</td>\n",
       "    </tr>\n",
       "    <tr>\n",
       "      <th>11</th>\n",
       "      <td>personal care</td>\n",
       "    </tr>\n",
       "    <tr>\n",
       "      <th>12</th>\n",
       "      <td>meat seafood</td>\n",
       "    </tr>\n",
       "    <tr>\n",
       "      <th>13</th>\n",
       "      <td>pantry</td>\n",
       "    </tr>\n",
       "    <tr>\n",
       "      <th>14</th>\n",
       "      <td>breakfast</td>\n",
       "    </tr>\n",
       "    <tr>\n",
       "      <th>15</th>\n",
       "      <td>canned goods</td>\n",
       "    </tr>\n",
       "    <tr>\n",
       "      <th>16</th>\n",
       "      <td>dairy eggs</td>\n",
       "    </tr>\n",
       "    <tr>\n",
       "      <th>17</th>\n",
       "      <td>household</td>\n",
       "    </tr>\n",
       "    <tr>\n",
       "      <th>18</th>\n",
       "      <td>babies</td>\n",
       "    </tr>\n",
       "    <tr>\n",
       "      <th>19</th>\n",
       "      <td>snacks</td>\n",
       "    </tr>\n",
       "    <tr>\n",
       "      <th>20</th>\n",
       "      <td>deli</td>\n",
       "    </tr>\n",
       "    <tr>\n",
       "      <th>21</th>\n",
       "      <td>missing</td>\n",
       "    </tr>\n",
       "  </tbody>\n",
       "</table>\n",
       "</div>"
      ],
      "text/plain": [
       "                  0\n",
       "1            frozen\n",
       "2             other\n",
       "3            bakery\n",
       "4           produce\n",
       "5           alcohol\n",
       "6     international\n",
       "7         beverages\n",
       "8              pets\n",
       "9   dry goods pasta\n",
       "10             bulk\n",
       "11    personal care\n",
       "12     meat seafood\n",
       "13           pantry\n",
       "14        breakfast\n",
       "15     canned goods\n",
       "16       dairy eggs\n",
       "17        household\n",
       "18           babies\n",
       "19           snacks\n",
       "20             deli\n",
       "21          missing"
      ]
     },
     "execution_count": 20,
     "metadata": {},
     "output_type": "execute_result"
    }
   ],
   "source": [
    "df_dep_t_new"
   ]
  },
  {
   "cell_type": "code",
   "execution_count": 21,
   "id": "b73b9cc6",
   "metadata": {},
   "outputs": [],
   "source": [
    "#Adding header column\n",
    "df_dep_t_new.columns = new_header"
   ]
  },
  {
   "cell_type": "code",
   "execution_count": 22,
   "id": "a34bcdd5",
   "metadata": {},
   "outputs": [],
   "source": [
    "#Turning df_dep_t_new into a data dictionary\n",
    "data_dict = df_dep_t_new.to_dict('index')"
   ]
  },
  {
   "cell_type": "code",
   "execution_count": 23,
   "id": "4a310ead",
   "metadata": {},
   "outputs": [
    {
     "data": {
      "text/plain": [
       "{'1': {'department': 'frozen'},\n",
       " '2': {'department': 'other'},\n",
       " '3': {'department': 'bakery'},\n",
       " '4': {'department': 'produce'},\n",
       " '5': {'department': 'alcohol'},\n",
       " '6': {'department': 'international'},\n",
       " '7': {'department': 'beverages'},\n",
       " '8': {'department': 'pets'},\n",
       " '9': {'department': 'dry goods pasta'},\n",
       " '10': {'department': 'bulk'},\n",
       " '11': {'department': 'personal care'},\n",
       " '12': {'department': 'meat seafood'},\n",
       " '13': {'department': 'pantry'},\n",
       " '14': {'department': 'breakfast'},\n",
       " '15': {'department': 'canned goods'},\n",
       " '16': {'department': 'dairy eggs'},\n",
       " '17': {'department': 'household'},\n",
       " '18': {'department': 'babies'},\n",
       " '19': {'department': 'snacks'},\n",
       " '20': {'department': 'deli'},\n",
       " '21': {'department': 'missing'}}"
      ]
     },
     "execution_count": 23,
     "metadata": {},
     "output_type": "execute_result"
    }
   ],
   "source": [
    "data_dict"
   ]
  },
  {
   "cell_type": "code",
   "execution_count": 24,
   "id": "8ba8c9c4",
   "metadata": {},
   "outputs": [
    {
     "data": {
      "text/html": [
       "<div>\n",
       "<style scoped>\n",
       "    .dataframe tbody tr th:only-of-type {\n",
       "        vertical-align: middle;\n",
       "    }\n",
       "\n",
       "    .dataframe tbody tr th {\n",
       "        vertical-align: top;\n",
       "    }\n",
       "\n",
       "    .dataframe thead th {\n",
       "        text-align: right;\n",
       "    }\n",
       "</style>\n",
       "<table border=\"1\" class=\"dataframe\">\n",
       "  <thead>\n",
       "    <tr style=\"text-align: right;\">\n",
       "      <th></th>\n",
       "      <th>product_id</th>\n",
       "      <th>product_name</th>\n",
       "      <th>aisle_id</th>\n",
       "      <th>department_id</th>\n",
       "      <th>prices</th>\n",
       "    </tr>\n",
       "  </thead>\n",
       "  <tbody>\n",
       "    <tr>\n",
       "      <th>0</th>\n",
       "      <td>1</td>\n",
       "      <td>Chocolate Sandwich Cookies</td>\n",
       "      <td>61</td>\n",
       "      <td>19</td>\n",
       "      <td>5.8</td>\n",
       "    </tr>\n",
       "    <tr>\n",
       "      <th>1</th>\n",
       "      <td>2</td>\n",
       "      <td>All-Seasons Salt</td>\n",
       "      <td>104</td>\n",
       "      <td>13</td>\n",
       "      <td>9.3</td>\n",
       "    </tr>\n",
       "    <tr>\n",
       "      <th>2</th>\n",
       "      <td>3</td>\n",
       "      <td>Robust Golden Unsweetened Oolong Tea</td>\n",
       "      <td>94</td>\n",
       "      <td>7</td>\n",
       "      <td>4.5</td>\n",
       "    </tr>\n",
       "    <tr>\n",
       "      <th>3</th>\n",
       "      <td>4</td>\n",
       "      <td>Smart Ones Classic Favorites Mini Rigatoni Wit...</td>\n",
       "      <td>38</td>\n",
       "      <td>1</td>\n",
       "      <td>10.5</td>\n",
       "    </tr>\n",
       "    <tr>\n",
       "      <th>4</th>\n",
       "      <td>5</td>\n",
       "      <td>Green Chile Anytime Sauce</td>\n",
       "      <td>5</td>\n",
       "      <td>13</td>\n",
       "      <td>4.3</td>\n",
       "    </tr>\n",
       "  </tbody>\n",
       "</table>\n",
       "</div>"
      ],
      "text/plain": [
       "   product_id                                       product_name  aisle_id  \\\n",
       "0           1                         Chocolate Sandwich Cookies        61   \n",
       "1           2                                   All-Seasons Salt       104   \n",
       "2           3               Robust Golden Unsweetened Oolong Tea        94   \n",
       "3           4  Smart Ones Classic Favorites Mini Rigatoni Wit...        38   \n",
       "4           5                          Green Chile Anytime Sauce         5   \n",
       "\n",
       "   department_id  prices  \n",
       "0             19     5.8  \n",
       "1             13     9.3  \n",
       "2              7     4.5  \n",
       "3              1    10.5  \n",
       "4             13     4.3  "
      ]
     },
     "execution_count": 24,
     "metadata": {},
     "output_type": "execute_result"
    }
   ],
   "source": [
    "df_prods.head()"
   ]
  },
  {
   "cell_type": "code",
   "execution_count": 25,
   "id": "34380a3a",
   "metadata": {},
   "outputs": [
    {
     "name": "stdout",
     "output_type": "stream",
     "text": [
      "{'department': 'snacks'}\n"
     ]
    }
   ],
   "source": [
    "print(data_dict.get('19'))"
   ]
  },
  {
   "cell_type": "code",
   "execution_count": 26,
   "id": "e7989845",
   "metadata": {},
   "outputs": [],
   "source": [
    "#Creating a subset\n",
    "df_snacks =  df_prods[df_prods['department_id']==19]"
   ]
  },
  {
   "cell_type": "code",
   "execution_count": 27,
   "id": "45de37e0",
   "metadata": {},
   "outputs": [
    {
     "data": {
      "text/html": [
       "<div>\n",
       "<style scoped>\n",
       "    .dataframe tbody tr th:only-of-type {\n",
       "        vertical-align: middle;\n",
       "    }\n",
       "\n",
       "    .dataframe tbody tr th {\n",
       "        vertical-align: top;\n",
       "    }\n",
       "\n",
       "    .dataframe thead th {\n",
       "        text-align: right;\n",
       "    }\n",
       "</style>\n",
       "<table border=\"1\" class=\"dataframe\">\n",
       "  <thead>\n",
       "    <tr style=\"text-align: right;\">\n",
       "      <th></th>\n",
       "      <th>product_id</th>\n",
       "      <th>product_name</th>\n",
       "      <th>aisle_id</th>\n",
       "      <th>department_id</th>\n",
       "      <th>prices</th>\n",
       "    </tr>\n",
       "  </thead>\n",
       "  <tbody>\n",
       "    <tr>\n",
       "      <th>0</th>\n",
       "      <td>1</td>\n",
       "      <td>Chocolate Sandwich Cookies</td>\n",
       "      <td>61</td>\n",
       "      <td>19</td>\n",
       "      <td>5.8</td>\n",
       "    </tr>\n",
       "    <tr>\n",
       "      <th>15</th>\n",
       "      <td>16</td>\n",
       "      <td>Mint Chocolate Flavored Syrup</td>\n",
       "      <td>103</td>\n",
       "      <td>19</td>\n",
       "      <td>5.2</td>\n",
       "    </tr>\n",
       "    <tr>\n",
       "      <th>24</th>\n",
       "      <td>25</td>\n",
       "      <td>Salted Caramel Lean Protein &amp; Fiber Bar</td>\n",
       "      <td>3</td>\n",
       "      <td>19</td>\n",
       "      <td>1.9</td>\n",
       "    </tr>\n",
       "    <tr>\n",
       "      <th>31</th>\n",
       "      <td>32</td>\n",
       "      <td>Nacho Cheese White Bean Chips</td>\n",
       "      <td>107</td>\n",
       "      <td>19</td>\n",
       "      <td>4.9</td>\n",
       "    </tr>\n",
       "    <tr>\n",
       "      <th>40</th>\n",
       "      <td>41</td>\n",
       "      <td>Organic Sourdough Einkorn Crackers Rosemary</td>\n",
       "      <td>78</td>\n",
       "      <td>19</td>\n",
       "      <td>6.5</td>\n",
       "    </tr>\n",
       "  </tbody>\n",
       "</table>\n",
       "</div>"
      ],
      "text/plain": [
       "    product_id                                 product_name  aisle_id  \\\n",
       "0            1                   Chocolate Sandwich Cookies        61   \n",
       "15          16                Mint Chocolate Flavored Syrup       103   \n",
       "24          25      Salted Caramel Lean Protein & Fiber Bar         3   \n",
       "31          32                Nacho Cheese White Bean Chips       107   \n",
       "40          41  Organic Sourdough Einkorn Crackers Rosemary        78   \n",
       "\n",
       "    department_id  prices  \n",
       "0              19     5.8  \n",
       "15             19     5.2  \n",
       "24             19     1.9  \n",
       "31             19     4.9  \n",
       "40             19     6.5  "
      ]
     },
     "execution_count": 27,
     "metadata": {},
     "output_type": "execute_result"
    }
   ],
   "source": [
    "df_snacks.head()"
   ]
  },
  {
   "cell_type": "markdown",
   "id": "10b5b1db",
   "metadata": {},
   "source": [
    "# 06. Data wrangling - Task"
   ]
  },
  {
   "cell_type": "code",
   "execution_count": 28,
   "id": "9cb7a0ac",
   "metadata": {},
   "outputs": [
    {
     "data": {
      "text/html": [
       "<div>\n",
       "<style scoped>\n",
       "    .dataframe tbody tr th:only-of-type {\n",
       "        vertical-align: middle;\n",
       "    }\n",
       "\n",
       "    .dataframe tbody tr th {\n",
       "        vertical-align: top;\n",
       "    }\n",
       "\n",
       "    .dataframe thead th {\n",
       "        text-align: right;\n",
       "    }\n",
       "</style>\n",
       "<table border=\"1\" class=\"dataframe\">\n",
       "  <thead>\n",
       "    <tr style=\"text-align: right;\">\n",
       "      <th></th>\n",
       "      <th>order_id</th>\n",
       "      <th>user_id</th>\n",
       "      <th>order_number</th>\n",
       "      <th>orders_day_of_week</th>\n",
       "      <th>order_hour_of_day</th>\n",
       "      <th>days_since_prior_order</th>\n",
       "    </tr>\n",
       "  </thead>\n",
       "  <tbody>\n",
       "    <tr>\n",
       "      <th>0</th>\n",
       "      <td>2539329</td>\n",
       "      <td>1</td>\n",
       "      <td>1</td>\n",
       "      <td>2</td>\n",
       "      <td>8</td>\n",
       "      <td>NaN</td>\n",
       "    </tr>\n",
       "    <tr>\n",
       "      <th>1</th>\n",
       "      <td>2398795</td>\n",
       "      <td>1</td>\n",
       "      <td>2</td>\n",
       "      <td>3</td>\n",
       "      <td>7</td>\n",
       "      <td>15.0</td>\n",
       "    </tr>\n",
       "    <tr>\n",
       "      <th>2</th>\n",
       "      <td>473747</td>\n",
       "      <td>1</td>\n",
       "      <td>3</td>\n",
       "      <td>3</td>\n",
       "      <td>12</td>\n",
       "      <td>21.0</td>\n",
       "    </tr>\n",
       "    <tr>\n",
       "      <th>3</th>\n",
       "      <td>2254736</td>\n",
       "      <td>1</td>\n",
       "      <td>4</td>\n",
       "      <td>4</td>\n",
       "      <td>7</td>\n",
       "      <td>29.0</td>\n",
       "    </tr>\n",
       "    <tr>\n",
       "      <th>4</th>\n",
       "      <td>431534</td>\n",
       "      <td>1</td>\n",
       "      <td>5</td>\n",
       "      <td>4</td>\n",
       "      <td>15</td>\n",
       "      <td>28.0</td>\n",
       "    </tr>\n",
       "  </tbody>\n",
       "</table>\n",
       "</div>"
      ],
      "text/plain": [
       "  order_id  user_id  order_number  orders_day_of_week  order_hour_of_day  \\\n",
       "0  2539329        1             1                   2                  8   \n",
       "1  2398795        1             2                   3                  7   \n",
       "2   473747        1             3                   3                 12   \n",
       "3  2254736        1             4                   4                  7   \n",
       "4   431534        1             5                   4                 15   \n",
       "\n",
       "   days_since_prior_order  \n",
       "0                     NaN  \n",
       "1                    15.0  \n",
       "2                    21.0  \n",
       "3                    29.0  \n",
       "4                    28.0  "
      ]
     },
     "execution_count": 28,
     "metadata": {},
     "output_type": "execute_result"
    }
   ],
   "source": [
    "df_ords.head()"
   ]
  },
  {
   "cell_type": "code",
   "execution_count": 29,
   "id": "84ee950e",
   "metadata": {},
   "outputs": [],
   "source": [
    "#Change data type\n",
    "df_ords['user_id'] = df_ords['user_id'].astype('str')"
   ]
  },
  {
   "cell_type": "code",
   "execution_count": 31,
   "id": "24e9a13a",
   "metadata": {},
   "outputs": [],
   "source": [
    "#Rename column\n",
    "df_ords.rename(columns = {'days_since_prior_order' : 'days_since_last_order'}, inplace = True)"
   ]
  },
  {
   "cell_type": "code",
   "execution_count": 32,
   "id": "5f6528f4",
   "metadata": {},
   "outputs": [
    {
     "data": {
      "text/plain": [
       "10    288418\n",
       "11    284728\n",
       "15    283639\n",
       "14    283042\n",
       "13    277999\n",
       "12    272841\n",
       "16    272553\n",
       "9     257812\n",
       "17    228795\n",
       "18    182912\n",
       "8     178201\n",
       "19    140569\n",
       "20    104292\n",
       "7      91868\n",
       "21     78109\n",
       "22     61468\n",
       "23     40043\n",
       "6      30529\n",
       "0      22758\n",
       "1      12398\n",
       "5       9569\n",
       "2       7539\n",
       "4       5527\n",
       "3       5474\n",
       "Name: order_hour_of_day, dtype: int64"
      ]
     },
     "execution_count": 32,
     "metadata": {},
     "output_type": "execute_result"
    }
   ],
   "source": [
    "#Busiest time of day\n",
    "df_ords['order_hour_of_day'].value_counts(dropna = False)"
   ]
  },
  {
   "cell_type": "markdown",
   "id": "e7a9f8c9",
   "metadata": {},
   "source": [
    "The busiest hour in the day is between 10 and 11am."
   ]
  },
  {
   "cell_type": "code",
   "execution_count": 33,
   "id": "2fa7480a",
   "metadata": {},
   "outputs": [
    {
     "name": "stdout",
     "output_type": "stream",
     "text": [
      "{'department': 'produce'}\n"
     ]
    }
   ],
   "source": [
    "print(data_dict.get('4'))"
   ]
  },
  {
   "cell_type": "code",
   "execution_count": 36,
   "id": "151f778e",
   "metadata": {},
   "outputs": [],
   "source": [
    "#Creating subset for breakfast items\n",
    "df_breakfast = df_prods.loc[df_prods['department_id'].isin([14])]"
   ]
  },
  {
   "cell_type": "code",
   "execution_count": 37,
   "id": "4785e456",
   "metadata": {},
   "outputs": [],
   "source": [
    "#Creating subset for dinner items\n",
    "df_dinner = df_prods.loc[df_prods['department_id'].isin([5, 7, 12, 20])]"
   ]
  },
  {
   "cell_type": "code",
   "execution_count": 40,
   "id": "826ed1e7",
   "metadata": {},
   "outputs": [
    {
     "data": {
      "text/plain": [
       "(7650, 5)"
      ]
     },
     "execution_count": 40,
     "metadata": {},
     "output_type": "execute_result"
    }
   ],
   "source": [
    "#count df_dinner rows\n",
    "df_dinner.shape"
   ]
  },
  {
   "cell_type": "markdown",
   "id": "c95e1d0c",
   "metadata": {},
   "source": [
    "df_dinner has 7650 rows."
   ]
  },
  {
   "cell_type": "code",
   "execution_count": 49,
   "id": "29d62293",
   "metadata": {},
   "outputs": [
    {
     "data": {
      "text/html": [
       "<div>\n",
       "<style scoped>\n",
       "    .dataframe tbody tr th:only-of-type {\n",
       "        vertical-align: middle;\n",
       "    }\n",
       "\n",
       "    .dataframe tbody tr th {\n",
       "        vertical-align: top;\n",
       "    }\n",
       "\n",
       "    .dataframe thead th {\n",
       "        text-align: right;\n",
       "    }\n",
       "</style>\n",
       "<table border=\"1\" class=\"dataframe\">\n",
       "  <thead>\n",
       "    <tr style=\"text-align: right;\">\n",
       "      <th></th>\n",
       "      <th>order_id</th>\n",
       "      <th>user_id</th>\n",
       "      <th>order_number</th>\n",
       "      <th>orders_day_of_week</th>\n",
       "      <th>order_hour_of_day</th>\n",
       "      <th>days_since_last_order</th>\n",
       "    </tr>\n",
       "  </thead>\n",
       "  <tbody>\n",
       "  </tbody>\n",
       "</table>\n",
       "</div>"
      ],
      "text/plain": [
       "Empty DataFrame\n",
       "Columns: [order_id, user_id, order_number, orders_day_of_week, order_hour_of_day, days_since_last_order]\n",
       "Index: []"
      ]
     },
     "execution_count": 49,
     "metadata": {},
     "output_type": "execute_result"
    }
   ],
   "source": [
    "df_ords[df_ords['user_id']=='1.']"
   ]
  },
  {
   "cell_type": "markdown",
   "id": "3c250407",
   "metadata": {},
   "source": [
    "There is no user_id = 1. in the data frame. "
   ]
  },
  {
   "cell_type": "code",
   "execution_count": 52,
   "id": "9dc0462f",
   "metadata": {},
   "outputs": [],
   "source": [
    "#Extracting df_ords\n",
    "df_ords.to_csv(os.path.join(path, '02 Data','Prepared Data', 'orders_wrangled.csv')) "
   ]
  },
  {
   "cell_type": "code",
   "execution_count": 51,
   "id": "b4aeec3c",
   "metadata": {},
   "outputs": [],
   "source": [
    "#Extracting df_dep_t_new\n",
    "df_dep_t_new.to_csv(os.path.join(path, '02 Data','Prepared Data', 'departments_wrangled.csv')) "
   ]
  },
  {
   "cell_type": "code",
   "execution_count": null,
   "id": "c9ce7910",
   "metadata": {},
   "outputs": [],
   "source": []
  }
 ],
 "metadata": {
  "kernelspec": {
   "display_name": "Python 3 (ipykernel)",
   "language": "python",
   "name": "python3"
  },
  "language_info": {
   "codemirror_mode": {
    "name": "ipython",
    "version": 3
   },
   "file_extension": ".py",
   "mimetype": "text/x-python",
   "name": "python",
   "nbconvert_exporter": "python",
   "pygments_lexer": "ipython3",
   "version": "3.9.12"
  }
 },
 "nbformat": 4,
 "nbformat_minor": 5
}
