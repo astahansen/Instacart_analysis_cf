{
 "cells": [
  {
   "cell_type": "markdown",
   "id": "eb2321de",
   "metadata": {},
   "source": [
    "#01. Importing libraries "
   ]
  },
  {
   "cell_type": "code",
   "execution_count": 1,
   "id": "230a764e",
   "metadata": {},
   "outputs": [],
   "source": [
    "#Import libraries\n",
    "import pandas as pd\n",
    "import numpy as np\n",
    "import os"
   ]
  },
  {
   "cell_type": "markdown",
   "id": "3c87a286",
   "metadata": {},
   "source": [
    "#02. Working with Python data types"
   ]
  },
  {
   "cell_type": "code",
   "execution_count": 5,
   "id": "33a50643",
   "metadata": {},
   "outputs": [
    {
     "data": {
      "text/plain": [
       "100"
      ]
     },
     "execution_count": 5,
     "metadata": {},
     "output_type": "execute_result"
    }
   ],
   "source": [
    "50+50"
   ]
  },
  {
   "cell_type": "code",
   "execution_count": 6,
   "id": "04a8a249",
   "metadata": {},
   "outputs": [
    {
     "data": {
      "text/plain": [
       "100"
      ]
     },
     "execution_count": 6,
     "metadata": {},
     "output_type": "execute_result"
    }
   ],
   "source": [
    "200-100"
   ]
  },
  {
   "cell_type": "code",
   "execution_count": 7,
   "id": "fc074dbf",
   "metadata": {},
   "outputs": [
    {
     "data": {
      "text/plain": [
       "100"
      ]
     },
     "execution_count": 7,
     "metadata": {},
     "output_type": "execute_result"
    }
   ],
   "source": [
    "25+75"
   ]
  },
  {
   "cell_type": "code",
   "execution_count": 8,
   "id": "c0629ab0",
   "metadata": {},
   "outputs": [
    {
     "data": {
      "text/plain": [
       "0.1787665667292443"
      ]
     },
     "execution_count": 8,
     "metadata": {},
     "output_type": "execute_result"
    }
   ],
   "source": [
    "x=6.38\n",
    "y=35.689\n",
    "x/y"
   ]
  },
  {
   "cell_type": "code",
   "execution_count": 9,
   "id": "9f0efd89",
   "metadata": {},
   "outputs": [
    {
     "data": {
      "text/plain": [
       "'rainbow'"
      ]
     },
     "execution_count": 9,
     "metadata": {},
     "output_type": "execute_result"
    }
   ],
   "source": [
    "a='rain'\n",
    "b='bow'\n",
    "a+b"
   ]
  },
  {
   "cell_type": "code",
   "execution_count": 11,
   "id": "21f90443",
   "metadata": {},
   "outputs": [
    {
     "data": {
      "text/plain": [
       "'I am here.'"
      ]
     },
     "execution_count": 11,
     "metadata": {},
     "output_type": "execute_result"
    }
   ],
   "source": [
    "c='I '\n",
    "d='am '\n",
    "e='here.'\n",
    "c+d+e"
   ]
  },
  {
   "cell_type": "code",
   "execution_count": 12,
   "id": "21ac05da",
   "metadata": {},
   "outputs": [
    {
     "data": {
      "text/plain": [
       "'You are there.'"
      ]
     },
     "execution_count": 12,
     "metadata": {},
     "output_type": "execute_result"
    }
   ],
   "source": [
    "f='You '\n",
    "g='are '\n",
    "h='there.'\n",
    "f+g+h"
   ]
  },
  {
   "cell_type": "code",
   "execution_count": null,
   "id": "a0b92a01",
   "metadata": {},
   "outputs": [],
   "source": []
  }
 ],
 "metadata": {
  "kernelspec": {
   "display_name": "Python 3 (ipykernel)",
   "language": "python",
   "name": "python3"
  },
  "language_info": {
   "codemirror_mode": {
    "name": "ipython",
    "version": 3
   },
   "file_extension": ".py",
   "mimetype": "text/x-python",
   "name": "python",
   "nbconvert_exporter": "python",
   "pygments_lexer": "ipython3",
   "version": "3.9.12"
  }
 },
 "nbformat": 4,
 "nbformat_minor": 5
}
