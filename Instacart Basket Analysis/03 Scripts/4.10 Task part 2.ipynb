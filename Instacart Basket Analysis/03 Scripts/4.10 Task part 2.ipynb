{
 "cells": [
  {
   "cell_type": "markdown",
   "id": "6cb64c92",
   "metadata": {},
   "source": [
    "# 1. Importing libraries"
   ]
  },
  {
   "cell_type": "code",
   "execution_count": 1,
   "id": "55120007",
   "metadata": {},
   "outputs": [],
   "source": [
    "#Import libraries\n",
    "import pandas as pd\n",
    "import numpy as np\n",
    "import os\n",
    "import matplotlib.pyplot as plt\n",
    "import seaborn as sns\n",
    "import scipy"
   ]
  },
  {
   "cell_type": "markdown",
   "id": "1307fd12",
   "metadata": {},
   "source": [
    "# 2. Importing data"
   ]
  },
  {
   "cell_type": "code",
   "execution_count": 2,
   "id": "da0bd4b4",
   "metadata": {},
   "outputs": [],
   "source": [
    "#Define path\n",
    "path = r'C:\\Users\\astat\\Documents\\Instacart Basket Analysis'"
   ]
  },
  {
   "cell_type": "code",
   "execution_count": 3,
   "id": "6d4ffabd",
   "metadata": {},
   "outputs": [],
   "source": [
    "orders_products_all = pd.read_pickle(os.path.join(path, '02 Data', 'Prepared Data', 'orders_products_all.pkl'))"
   ]
  },
  {
   "cell_type": "markdown",
   "id": "f09f759c",
   "metadata": {},
   "source": [
    "# 3. Key Questions"
   ]
  },
  {
   "cell_type": "code",
   "execution_count": 4,
   "id": "fcac009f",
   "metadata": {},
   "outputs": [
    {
     "data": {
      "text/plain": [
       "(32404859, 35)"
      ]
     },
     "execution_count": 4,
     "metadata": {},
     "output_type": "execute_result"
    }
   ],
   "source": [
    "#df overview\n",
    "orders_products_all.shape"
   ]
  },
  {
   "cell_type": "code",
   "execution_count": 5,
   "id": "91a1f3dd",
   "metadata": {},
   "outputs": [
    {
     "data": {
      "text/plain": [
       "Index(['user_id', 'gender', 'state', 'age', 'date_joined',\n",
       "       'number_of_dependants', 'family_status', 'income', 'order_id',\n",
       "       'order_number', 'orders_day_of_week', 'order_hour_of_day',\n",
       "       'days_since_last_order', 'product_id', 'add_to_cart_order', 'reordered',\n",
       "       'product_name', 'aisle_id', 'department_id', 'prices', 'price_range',\n",
       "       'busiest_day', 'busiest_days', 'busiest_period_of_day', 'max_order',\n",
       "       'loyalty_flag', 'mean_spending', 'spending_flag', 'order_frequency',\n",
       "       'frequency_flag', '_merge', 'region', 'activity_flag', 'profile',\n",
       "       'spending'],\n",
       "      dtype='object')"
      ]
     },
     "execution_count": 5,
     "metadata": {},
     "output_type": "execute_result"
    }
   ],
   "source": [
    "orders_products_all.columns"
   ]
  },
  {
   "cell_type": "markdown",
   "id": "233a1e6e",
   "metadata": {},
   "source": [
    "# 3.1 Spending & time of day"
   ]
  },
  {
   "cell_type": "code",
   "execution_count": 6,
   "id": "d4cebeab",
   "metadata": {},
   "outputs": [],
   "source": [
    "ct_spending_hour = pd.crosstab(orders_products_all['spending'], orders_products_all['order_hour_of_day'], dropna=False)"
   ]
  },
  {
   "cell_type": "code",
   "execution_count": 7,
   "id": "4a2bfd7e",
   "metadata": {},
   "outputs": [
    {
     "data": {
      "text/html": [
       "<div>\n",
       "<style scoped>\n",
       "    .dataframe tbody tr th:only-of-type {\n",
       "        vertical-align: middle;\n",
       "    }\n",
       "\n",
       "    .dataframe tbody tr th {\n",
       "        vertical-align: top;\n",
       "    }\n",
       "\n",
       "    .dataframe thead th {\n",
       "        text-align: right;\n",
       "    }\n",
       "</style>\n",
       "<table border=\"1\" class=\"dataframe\">\n",
       "  <thead>\n",
       "    <tr style=\"text-align: right;\">\n",
       "      <th>order_hour_of_day</th>\n",
       "      <th>0</th>\n",
       "      <th>1</th>\n",
       "      <th>2</th>\n",
       "      <th>3</th>\n",
       "      <th>4</th>\n",
       "      <th>5</th>\n",
       "      <th>6</th>\n",
       "      <th>7</th>\n",
       "      <th>8</th>\n",
       "      <th>9</th>\n",
       "      <th>...</th>\n",
       "      <th>14</th>\n",
       "      <th>15</th>\n",
       "      <th>16</th>\n",
       "      <th>17</th>\n",
       "      <th>18</th>\n",
       "      <th>19</th>\n",
       "      <th>20</th>\n",
       "      <th>21</th>\n",
       "      <th>22</th>\n",
       "      <th>23</th>\n",
       "    </tr>\n",
       "    <tr>\n",
       "      <th>spending</th>\n",
       "      <th></th>\n",
       "      <th></th>\n",
       "      <th></th>\n",
       "      <th></th>\n",
       "      <th></th>\n",
       "      <th></th>\n",
       "      <th></th>\n",
       "      <th></th>\n",
       "      <th></th>\n",
       "      <th></th>\n",
       "      <th></th>\n",
       "      <th></th>\n",
       "      <th></th>\n",
       "      <th></th>\n",
       "      <th></th>\n",
       "      <th></th>\n",
       "      <th></th>\n",
       "      <th></th>\n",
       "      <th></th>\n",
       "      <th></th>\n",
       "      <th></th>\n",
       "    </tr>\n",
       "  </thead>\n",
       "  <tbody>\n",
       "    <tr>\n",
       "      <th>3.000000</th>\n",
       "      <td>0</td>\n",
       "      <td>0</td>\n",
       "      <td>0</td>\n",
       "      <td>0</td>\n",
       "      <td>0</td>\n",
       "      <td>0</td>\n",
       "      <td>0</td>\n",
       "      <td>0</td>\n",
       "      <td>0</td>\n",
       "      <td>0</td>\n",
       "      <td>...</td>\n",
       "      <td>1</td>\n",
       "      <td>0</td>\n",
       "      <td>1</td>\n",
       "      <td>0</td>\n",
       "      <td>2</td>\n",
       "      <td>0</td>\n",
       "      <td>0</td>\n",
       "      <td>0</td>\n",
       "      <td>1</td>\n",
       "      <td>0</td>\n",
       "    </tr>\n",
       "    <tr>\n",
       "      <th>3.300000</th>\n",
       "      <td>0</td>\n",
       "      <td>0</td>\n",
       "      <td>0</td>\n",
       "      <td>0</td>\n",
       "      <td>0</td>\n",
       "      <td>0</td>\n",
       "      <td>0</td>\n",
       "      <td>0</td>\n",
       "      <td>0</td>\n",
       "      <td>0</td>\n",
       "      <td>...</td>\n",
       "      <td>1</td>\n",
       "      <td>0</td>\n",
       "      <td>1</td>\n",
       "      <td>2</td>\n",
       "      <td>2</td>\n",
       "      <td>2</td>\n",
       "      <td>0</td>\n",
       "      <td>0</td>\n",
       "      <td>0</td>\n",
       "      <td>1</td>\n",
       "    </tr>\n",
       "    <tr>\n",
       "      <th>3.600000</th>\n",
       "      <td>0</td>\n",
       "      <td>0</td>\n",
       "      <td>0</td>\n",
       "      <td>0</td>\n",
       "      <td>0</td>\n",
       "      <td>0</td>\n",
       "      <td>0</td>\n",
       "      <td>0</td>\n",
       "      <td>0</td>\n",
       "      <td>0</td>\n",
       "      <td>...</td>\n",
       "      <td>0</td>\n",
       "      <td>0</td>\n",
       "      <td>0</td>\n",
       "      <td>0</td>\n",
       "      <td>0</td>\n",
       "      <td>0</td>\n",
       "      <td>0</td>\n",
       "      <td>0</td>\n",
       "      <td>0</td>\n",
       "      <td>0</td>\n",
       "    </tr>\n",
       "    <tr>\n",
       "      <th>3.900000</th>\n",
       "      <td>0</td>\n",
       "      <td>0</td>\n",
       "      <td>0</td>\n",
       "      <td>0</td>\n",
       "      <td>0</td>\n",
       "      <td>0</td>\n",
       "      <td>0</td>\n",
       "      <td>0</td>\n",
       "      <td>1</td>\n",
       "      <td>0</td>\n",
       "      <td>...</td>\n",
       "      <td>0</td>\n",
       "      <td>3</td>\n",
       "      <td>0</td>\n",
       "      <td>1</td>\n",
       "      <td>0</td>\n",
       "      <td>1</td>\n",
       "      <td>0</td>\n",
       "      <td>0</td>\n",
       "      <td>0</td>\n",
       "      <td>1</td>\n",
       "    </tr>\n",
       "    <tr>\n",
       "      <th>4.000000</th>\n",
       "      <td>0</td>\n",
       "      <td>0</td>\n",
       "      <td>0</td>\n",
       "      <td>0</td>\n",
       "      <td>0</td>\n",
       "      <td>0</td>\n",
       "      <td>0</td>\n",
       "      <td>0</td>\n",
       "      <td>0</td>\n",
       "      <td>0</td>\n",
       "      <td>...</td>\n",
       "      <td>0</td>\n",
       "      <td>1</td>\n",
       "      <td>0</td>\n",
       "      <td>2</td>\n",
       "      <td>0</td>\n",
       "      <td>0</td>\n",
       "      <td>0</td>\n",
       "      <td>0</td>\n",
       "      <td>0</td>\n",
       "      <td>0</td>\n",
       "    </tr>\n",
       "    <tr>\n",
       "      <th>...</th>\n",
       "      <td>...</td>\n",
       "      <td>...</td>\n",
       "      <td>...</td>\n",
       "      <td>...</td>\n",
       "      <td>...</td>\n",
       "      <td>...</td>\n",
       "      <td>...</td>\n",
       "      <td>...</td>\n",
       "      <td>...</td>\n",
       "      <td>...</td>\n",
       "      <td>...</td>\n",
       "      <td>...</td>\n",
       "      <td>...</td>\n",
       "      <td>...</td>\n",
       "      <td>...</td>\n",
       "      <td>...</td>\n",
       "      <td>...</td>\n",
       "      <td>...</td>\n",
       "      <td>...</td>\n",
       "      <td>...</td>\n",
       "      <td>...</td>\n",
       "    </tr>\n",
       "    <tr>\n",
       "      <th>22595.500000</th>\n",
       "      <td>0</td>\n",
       "      <td>0</td>\n",
       "      <td>0</td>\n",
       "      <td>0</td>\n",
       "      <td>0</td>\n",
       "      <td>0</td>\n",
       "      <td>0</td>\n",
       "      <td>0</td>\n",
       "      <td>0</td>\n",
       "      <td>32</td>\n",
       "      <td>...</td>\n",
       "      <td>115</td>\n",
       "      <td>721</td>\n",
       "      <td>635</td>\n",
       "      <td>187</td>\n",
       "      <td>205</td>\n",
       "      <td>31</td>\n",
       "      <td>3</td>\n",
       "      <td>0</td>\n",
       "      <td>0</td>\n",
       "      <td>0</td>\n",
       "    </tr>\n",
       "    <tr>\n",
       "      <th>22696.900391</th>\n",
       "      <td>0</td>\n",
       "      <td>0</td>\n",
       "      <td>0</td>\n",
       "      <td>0</td>\n",
       "      <td>0</td>\n",
       "      <td>0</td>\n",
       "      <td>0</td>\n",
       "      <td>0</td>\n",
       "      <td>24</td>\n",
       "      <td>108</td>\n",
       "      <td>...</td>\n",
       "      <td>369</td>\n",
       "      <td>215</td>\n",
       "      <td>224</td>\n",
       "      <td>445</td>\n",
       "      <td>195</td>\n",
       "      <td>30</td>\n",
       "      <td>36</td>\n",
       "      <td>0</td>\n",
       "      <td>0</td>\n",
       "      <td>0</td>\n",
       "    </tr>\n",
       "    <tr>\n",
       "      <th>22777.900391</th>\n",
       "      <td>0</td>\n",
       "      <td>0</td>\n",
       "      <td>0</td>\n",
       "      <td>0</td>\n",
       "      <td>0</td>\n",
       "      <td>0</td>\n",
       "      <td>0</td>\n",
       "      <td>54</td>\n",
       "      <td>184</td>\n",
       "      <td>206</td>\n",
       "      <td>...</td>\n",
       "      <td>307</td>\n",
       "      <td>261</td>\n",
       "      <td>334</td>\n",
       "      <td>241</td>\n",
       "      <td>40</td>\n",
       "      <td>116</td>\n",
       "      <td>158</td>\n",
       "      <td>0</td>\n",
       "      <td>22</td>\n",
       "      <td>36</td>\n",
       "    </tr>\n",
       "    <tr>\n",
       "      <th>24307.099609</th>\n",
       "      <td>0</td>\n",
       "      <td>0</td>\n",
       "      <td>0</td>\n",
       "      <td>0</td>\n",
       "      <td>0</td>\n",
       "      <td>0</td>\n",
       "      <td>0</td>\n",
       "      <td>0</td>\n",
       "      <td>74</td>\n",
       "      <td>159</td>\n",
       "      <td>...</td>\n",
       "      <td>128</td>\n",
       "      <td>373</td>\n",
       "      <td>260</td>\n",
       "      <td>134</td>\n",
       "      <td>0</td>\n",
       "      <td>112</td>\n",
       "      <td>70</td>\n",
       "      <td>0</td>\n",
       "      <td>42</td>\n",
       "      <td>137</td>\n",
       "    </tr>\n",
       "    <tr>\n",
       "      <th>26394.900391</th>\n",
       "      <td>178</td>\n",
       "      <td>97</td>\n",
       "      <td>0</td>\n",
       "      <td>0</td>\n",
       "      <td>0</td>\n",
       "      <td>0</td>\n",
       "      <td>0</td>\n",
       "      <td>84</td>\n",
       "      <td>257</td>\n",
       "      <td>161</td>\n",
       "      <td>...</td>\n",
       "      <td>192</td>\n",
       "      <td>225</td>\n",
       "      <td>227</td>\n",
       "      <td>452</td>\n",
       "      <td>203</td>\n",
       "      <td>19</td>\n",
       "      <td>113</td>\n",
       "      <td>0</td>\n",
       "      <td>125</td>\n",
       "      <td>175</td>\n",
       "    </tr>\n",
       "  </tbody>\n",
       "</table>\n",
       "<p>46610 rows × 24 columns</p>\n",
       "</div>"
      ],
      "text/plain": [
       "order_hour_of_day   0   1   2   3   4   5   6   7    8    9   ...   14   15  \\\n",
       "spending                                                      ...             \n",
       "3.000000             0   0   0   0   0   0   0   0    0    0  ...    1    0   \n",
       "3.300000             0   0   0   0   0   0   0   0    0    0  ...    1    0   \n",
       "3.600000             0   0   0   0   0   0   0   0    0    0  ...    0    0   \n",
       "3.900000             0   0   0   0   0   0   0   0    1    0  ...    0    3   \n",
       "4.000000             0   0   0   0   0   0   0   0    0    0  ...    0    1   \n",
       "...                ...  ..  ..  ..  ..  ..  ..  ..  ...  ...  ...  ...  ...   \n",
       "22595.500000         0   0   0   0   0   0   0   0    0   32  ...  115  721   \n",
       "22696.900391         0   0   0   0   0   0   0   0   24  108  ...  369  215   \n",
       "22777.900391         0   0   0   0   0   0   0  54  184  206  ...  307  261   \n",
       "24307.099609         0   0   0   0   0   0   0   0   74  159  ...  128  373   \n",
       "26394.900391       178  97   0   0   0   0   0  84  257  161  ...  192  225   \n",
       "\n",
       "order_hour_of_day   16   17   18   19   20  21   22   23  \n",
       "spending                                                  \n",
       "3.000000             1    0    2    0    0   0    1    0  \n",
       "3.300000             1    2    2    2    0   0    0    1  \n",
       "3.600000             0    0    0    0    0   0    0    0  \n",
       "3.900000             0    1    0    1    0   0    0    1  \n",
       "4.000000             0    2    0    0    0   0    0    0  \n",
       "...                ...  ...  ...  ...  ...  ..  ...  ...  \n",
       "22595.500000       635  187  205   31    3   0    0    0  \n",
       "22696.900391       224  445  195   30   36   0    0    0  \n",
       "22777.900391       334  241   40  116  158   0   22   36  \n",
       "24307.099609       260  134    0  112   70   0   42  137  \n",
       "26394.900391       227  452  203   19  113   0  125  175  \n",
       "\n",
       "[46610 rows x 24 columns]"
      ]
     },
     "execution_count": 7,
     "metadata": {},
     "output_type": "execute_result"
    }
   ],
   "source": [
    "ct_spending_hour"
   ]
  },
  {
   "cell_type": "code",
   "execution_count": 8,
   "id": "8cb2899e",
   "metadata": {},
   "outputs": [],
   "source": [
    "#Order value\n",
    "orders_products_all['order_value'] = orders_products_all.groupby(['order_id'])['prices'].transform(np.sum)"
   ]
  },
  {
   "cell_type": "code",
   "execution_count": 9,
   "id": "d4759365",
   "metadata": {},
   "outputs": [],
   "source": [
    "#Creating a sample\n",
    "#Set seed for random number generator\n",
    "np.random.seed(4)\n",
    "#Create list holding boolean values to the test np.random.rand() <= 0.7\n",
    "dev = np.random.rand(len(orders_products_all)) <= 0.7"
   ]
  },
  {
   "cell_type": "code",
   "execution_count": 10,
   "id": "4129aed5",
   "metadata": {},
   "outputs": [],
   "source": [
    "#Splitting df\n",
    "#Store 30% of smaple in df small\n",
    "small = orders_products_all[~dev]"
   ]
  },
  {
   "cell_type": "code",
   "execution_count": 11,
   "id": "2d6866ff",
   "metadata": {},
   "outputs": [],
   "source": [
    "#Reducing sample to necessary columns\n",
    "df_2 = small[['order_hour_of_day','spending']]"
   ]
  },
  {
   "cell_type": "code",
   "execution_count": 12,
   "id": "5af3e9a3",
   "metadata": {},
   "outputs": [
    {
     "data": {
      "image/png": "[encoded data removed]",
      "text/plain": [
       "<Figure size 432x288 with 1 Axes>"
      ]
     },
     "metadata": {
      "needs_background": "light"
     },
     "output_type": "display_data"
    }
   ],
   "source": [
    "#Create line chart - spending through course of day\n",
    "line = sns.lineplot(data = df_2, x = 'order_hour_of_day',y = 'spending')"
   ]
  },
  {
   "cell_type": "code",
   "execution_count": 13,
   "id": "398caab0",
   "metadata": {},
   "outputs": [],
   "source": [
    "#Exporting charts\n",
    "line.figure.savefig(os.path.join(path, '04 Analysis','Visualisations', 'line_spending_day.png'))"
   ]
  },
  {
   "cell_type": "code",
   "execution_count": 14,
   "id": "b1a75a0c",
   "metadata": {},
   "outputs": [],
   "source": [
    "df_3 = small[['order_hour_of_day','order_value']]"
   ]
  },
  {
   "cell_type": "code",
   "execution_count": 15,
   "id": "a360819c",
   "metadata": {},
   "outputs": [
    {
     "data": {
      "image/png": "[encoded data removed]",
      "text/plain": [
       "<Figure size 432x288 with 1 Axes>"
      ]
     },
     "metadata": {
      "needs_background": "light"
     },
     "output_type": "display_data"
    }
   ],
   "source": [
    "#Create line chart - spending through course of day\n",
    "Order_value_day_line = sns.lineplot(data = df_3, x = 'order_hour_of_day',y = 'order_value')"
   ]
  },
  {
   "cell_type": "code",
   "execution_count": 16,
   "id": "fd5b6485",
   "metadata": {},
   "outputs": [],
   "source": [
    "#Exporting chart\n",
    "Order_value_day_line.figure.savefig(os.path.join(path, '04 Analysis','Visualisations', 'line_order_value_day.png'))"
   ]
  },
  {
   "cell_type": "markdown",
   "id": "e94e1456",
   "metadata": {},
   "source": [
    "# 3.3 Price range and department"
   ]
  },
  {
   "cell_type": "code",
   "execution_count": 44,
   "id": "7cdabde7",
   "metadata": {},
   "outputs": [],
   "source": [
    "ct_dep_price = pd.crosstab(orders_products_all['department_id'], orders_products_all['price_range'], dropna=False)"
   ]
  },
  {
   "cell_type": "code",
   "execution_count": 45,
   "id": "4dc05f0c",
   "metadata": {},
   "outputs": [
    {
     "data": {
      "image/png": "[encoded data removed]",
      "text/plain": [
       "<Figure size 432x288 with 1 Axes>"
      ]
     },
     "metadata": {
      "needs_background": "light"
     },
     "output_type": "display_data"
    }
   ],
   "source": [
    "dep__price_bar = ct_dep_price.plot(kind='bar', stacked=True,\n",
    "        title='Price range by department')"
   ]
  },
  {
   "cell_type": "code",
   "execution_count": 46,
   "id": "6f06ce04",
   "metadata": {},
   "outputs": [],
   "source": [
    "#Exporting charts\n",
    "dep__price_bar.figure.savefig(os.path.join(path, '04 Analysis','Visualisations', 'bar_dep_price.png'))"
   ]
  },
  {
   "cell_type": "markdown",
   "id": "0f977541",
   "metadata": {},
   "source": [
    "# 3.4 Department frequency"
   ]
  },
  {
   "cell_type": "code",
   "execution_count": 17,
   "id": "8b4d89bd",
   "metadata": {},
   "outputs": [
    {
     "data": {
      "text/html": [
       "<div>\n",
       "<style scoped>\n",
       "    .dataframe tbody tr th:only-of-type {\n",
       "        vertical-align: middle;\n",
       "    }\n",
       "\n",
       "    .dataframe tbody tr th {\n",
       "        vertical-align: top;\n",
       "    }\n",
       "\n",
       "    .dataframe thead tr th {\n",
       "        text-align: left;\n",
       "    }\n",
       "\n",
       "    .dataframe thead tr:last-of-type th {\n",
       "        text-align: right;\n",
       "    }\n",
       "</style>\n",
       "<table border=\"1\" class=\"dataframe\">\n",
       "  <thead>\n",
       "    <tr>\n",
       "      <th></th>\n",
       "      <th colspan=\"3\" halign=\"left\">order_frequency</th>\n",
       "    </tr>\n",
       "    <tr>\n",
       "      <th></th>\n",
       "      <th>mean</th>\n",
       "      <th>min</th>\n",
       "      <th>max</th>\n",
       "    </tr>\n",
       "    <tr>\n",
       "      <th>department_id</th>\n",
       "      <th></th>\n",
       "      <th></th>\n",
       "      <th></th>\n",
       "    </tr>\n",
       "  </thead>\n",
       "  <tbody>\n",
       "    <tr>\n",
       "      <th>1</th>\n",
       "      <td>11.046875</td>\n",
       "      <td>0.0</td>\n",
       "      <td>30.0</td>\n",
       "    </tr>\n",
       "    <tr>\n",
       "      <th>2</th>\n",
       "      <td>10.382812</td>\n",
       "      <td>0.0</td>\n",
       "      <td>30.0</td>\n",
       "    </tr>\n",
       "    <tr>\n",
       "      <th>3</th>\n",
       "      <td>10.343750</td>\n",
       "      <td>0.0</td>\n",
       "      <td>30.0</td>\n",
       "    </tr>\n",
       "    <tr>\n",
       "      <th>4</th>\n",
       "      <td>10.132812</td>\n",
       "      <td>0.0</td>\n",
       "      <td>30.0</td>\n",
       "    </tr>\n",
       "    <tr>\n",
       "      <th>5</th>\n",
       "      <td>10.093750</td>\n",
       "      <td>0.0</td>\n",
       "      <td>30.0</td>\n",
       "    </tr>\n",
       "    <tr>\n",
       "      <th>6</th>\n",
       "      <td>10.703125</td>\n",
       "      <td>0.0</td>\n",
       "      <td>30.0</td>\n",
       "    </tr>\n",
       "    <tr>\n",
       "      <th>7</th>\n",
       "      <td>10.375000</td>\n",
       "      <td>0.0</td>\n",
       "      <td>30.0</td>\n",
       "    </tr>\n",
       "    <tr>\n",
       "      <th>8</th>\n",
       "      <td>11.093750</td>\n",
       "      <td>0.0</td>\n",
       "      <td>30.0</td>\n",
       "    </tr>\n",
       "    <tr>\n",
       "      <th>9</th>\n",
       "      <td>11.015625</td>\n",
       "      <td>0.0</td>\n",
       "      <td>30.0</td>\n",
       "    </tr>\n",
       "    <tr>\n",
       "      <th>10</th>\n",
       "      <td>9.398438</td>\n",
       "      <td>0.0</td>\n",
       "      <td>30.0</td>\n",
       "    </tr>\n",
       "    <tr>\n",
       "      <th>11</th>\n",
       "      <td>11.007812</td>\n",
       "      <td>0.0</td>\n",
       "      <td>30.0</td>\n",
       "    </tr>\n",
       "    <tr>\n",
       "      <th>12</th>\n",
       "      <td>10.726562</td>\n",
       "      <td>0.0</td>\n",
       "      <td>30.0</td>\n",
       "    </tr>\n",
       "    <tr>\n",
       "      <th>13</th>\n",
       "      <td>10.656250</td>\n",
       "      <td>0.0</td>\n",
       "      <td>30.0</td>\n",
       "    </tr>\n",
       "    <tr>\n",
       "      <th>14</th>\n",
       "      <td>10.523438</td>\n",
       "      <td>0.0</td>\n",
       "      <td>30.0</td>\n",
       "    </tr>\n",
       "    <tr>\n",
       "      <th>15</th>\n",
       "      <td>11.015625</td>\n",
       "      <td>0.0</td>\n",
       "      <td>30.0</td>\n",
       "    </tr>\n",
       "    <tr>\n",
       "      <th>16</th>\n",
       "      <td>10.156250</td>\n",
       "      <td>0.0</td>\n",
       "      <td>30.0</td>\n",
       "    </tr>\n",
       "    <tr>\n",
       "      <th>17</th>\n",
       "      <td>11.367188</td>\n",
       "      <td>0.0</td>\n",
       "      <td>30.0</td>\n",
       "    </tr>\n",
       "    <tr>\n",
       "      <th>18</th>\n",
       "      <td>9.093750</td>\n",
       "      <td>0.0</td>\n",
       "      <td>30.0</td>\n",
       "    </tr>\n",
       "    <tr>\n",
       "      <th>19</th>\n",
       "      <td>10.351562</td>\n",
       "      <td>0.0</td>\n",
       "      <td>30.0</td>\n",
       "    </tr>\n",
       "    <tr>\n",
       "      <th>20</th>\n",
       "      <td>10.609375</td>\n",
       "      <td>0.0</td>\n",
       "      <td>30.0</td>\n",
       "    </tr>\n",
       "    <tr>\n",
       "      <th>21</th>\n",
       "      <td>9.445312</td>\n",
       "      <td>0.0</td>\n",
       "      <td>30.0</td>\n",
       "    </tr>\n",
       "  </tbody>\n",
       "</table>\n",
       "</div>"
      ],
      "text/plain": [
       "              order_frequency           \n",
       "                         mean  min   max\n",
       "department_id                           \n",
       "1                   11.046875  0.0  30.0\n",
       "2                   10.382812  0.0  30.0\n",
       "3                   10.343750  0.0  30.0\n",
       "4                   10.132812  0.0  30.0\n",
       "5                   10.093750  0.0  30.0\n",
       "6                   10.703125  0.0  30.0\n",
       "7                   10.375000  0.0  30.0\n",
       "8                   11.093750  0.0  30.0\n",
       "9                   11.015625  0.0  30.0\n",
       "10                   9.398438  0.0  30.0\n",
       "11                  11.007812  0.0  30.0\n",
       "12                  10.726562  0.0  30.0\n",
       "13                  10.656250  0.0  30.0\n",
       "14                  10.523438  0.0  30.0\n",
       "15                  11.015625  0.0  30.0\n",
       "16                  10.156250  0.0  30.0\n",
       "17                  11.367188  0.0  30.0\n",
       "18                   9.093750  0.0  30.0\n",
       "19                  10.351562  0.0  30.0\n",
       "20                  10.609375  0.0  30.0\n",
       "21                   9.445312  0.0  30.0"
      ]
     },
     "execution_count": 17,
     "metadata": {},
     "output_type": "execute_result"
    }
   ],
   "source": [
    "#deparment & order_frequency\n",
    "#aggregating average orders per department\n",
    "orders_products_all.groupby('department_id').agg({'order_frequency': ['mean', 'min', 'max']})"
   ]
  },
  {
   "cell_type": "markdown",
   "id": "67821404",
   "metadata": {},
   "source": [
    "# 3.6 Regional Differences"
   ]
  },
  {
   "cell_type": "markdown",
   "id": "6201b1e2",
   "metadata": {},
   "source": [
    "---region & department---"
   ]
  },
  {
   "cell_type": "code",
   "execution_count": 18,
   "id": "4a262cae",
   "metadata": {},
   "outputs": [],
   "source": [
    "ct_region_dep = pd.crosstab(orders_products_all['department_id'], orders_products_all['region'], dropna = False)"
   ]
  },
  {
   "cell_type": "code",
   "execution_count": 19,
   "id": "4cbf00b8",
   "metadata": {},
   "outputs": [
    {
     "data": {
      "text/html": [
       "<div>\n",
       "<style scoped>\n",
       "    .dataframe tbody tr th:only-of-type {\n",
       "        vertical-align: middle;\n",
       "    }\n",
       "\n",
       "    .dataframe tbody tr th {\n",
       "        vertical-align: top;\n",
       "    }\n",
       "\n",
       "    .dataframe thead th {\n",
       "        text-align: right;\n",
       "    }\n",
       "</style>\n",
       "<table border=\"1\" class=\"dataframe\">\n",
       "  <thead>\n",
       "    <tr style=\"text-align: right;\">\n",
       "      <th>region</th>\n",
       "      <th>Midwest</th>\n",
       "      <th>Northeast</th>\n",
       "      <th>South</th>\n",
       "      <th>West</th>\n",
       "    </tr>\n",
       "    <tr>\n",
       "      <th>department_id</th>\n",
       "      <th></th>\n",
       "      <th></th>\n",
       "      <th></th>\n",
       "      <th></th>\n",
       "    </tr>\n",
       "  </thead>\n",
       "  <tbody>\n",
       "    <tr>\n",
       "      <th>1</th>\n",
       "      <td>524096</td>\n",
       "      <td>345032</td>\n",
       "      <td>793786</td>\n",
       "      <td>571829</td>\n",
       "    </tr>\n",
       "    <tr>\n",
       "      <th>2</th>\n",
       "      <td>8420</td>\n",
       "      <td>5749</td>\n",
       "      <td>13048</td>\n",
       "      <td>9074</td>\n",
       "    </tr>\n",
       "    <tr>\n",
       "      <th>3</th>\n",
       "      <td>273869</td>\n",
       "      <td>183764</td>\n",
       "      <td>413650</td>\n",
       "      <td>301145</td>\n",
       "    </tr>\n",
       "    <tr>\n",
       "      <th>4</th>\n",
       "      <td>2227937</td>\n",
       "      <td>1474885</td>\n",
       "      <td>3351505</td>\n",
       "      <td>2424964</td>\n",
       "    </tr>\n",
       "    <tr>\n",
       "      <th>5</th>\n",
       "      <td>36186</td>\n",
       "      <td>23327</td>\n",
       "      <td>54839</td>\n",
       "      <td>39344</td>\n",
       "    </tr>\n",
       "    <tr>\n",
       "      <th>6</th>\n",
       "      <td>63736</td>\n",
       "      <td>41178</td>\n",
       "      <td>94855</td>\n",
       "      <td>69484</td>\n",
       "    </tr>\n",
       "    <tr>\n",
       "      <th>7</th>\n",
       "      <td>625574</td>\n",
       "      <td>425306</td>\n",
       "      <td>957052</td>\n",
       "      <td>680191</td>\n",
       "    </tr>\n",
       "    <tr>\n",
       "      <th>8</th>\n",
       "      <td>22355</td>\n",
       "      <td>16551</td>\n",
       "      <td>33319</td>\n",
       "      <td>25491</td>\n",
       "    </tr>\n",
       "    <tr>\n",
       "      <th>9</th>\n",
       "      <td>203769</td>\n",
       "      <td>134121</td>\n",
       "      <td>305139</td>\n",
       "      <td>223598</td>\n",
       "    </tr>\n",
       "    <tr>\n",
       "      <th>10</th>\n",
       "      <td>8193</td>\n",
       "      <td>5136</td>\n",
       "      <td>12199</td>\n",
       "      <td>9045</td>\n",
       "    </tr>\n",
       "    <tr>\n",
       "      <th>11</th>\n",
       "      <td>105749</td>\n",
       "      <td>69429</td>\n",
       "      <td>159736</td>\n",
       "      <td>112658</td>\n",
       "    </tr>\n",
       "    <tr>\n",
       "      <th>12</th>\n",
       "      <td>166129</td>\n",
       "      <td>110354</td>\n",
       "      <td>250018</td>\n",
       "      <td>182426</td>\n",
       "    </tr>\n",
       "    <tr>\n",
       "      <th>13</th>\n",
       "      <td>442101</td>\n",
       "      <td>291236</td>\n",
       "      <td>660645</td>\n",
       "      <td>481387</td>\n",
       "    </tr>\n",
       "    <tr>\n",
       "      <th>14</th>\n",
       "      <td>163551</td>\n",
       "      <td>108522</td>\n",
       "      <td>249303</td>\n",
       "      <td>181657</td>\n",
       "    </tr>\n",
       "    <tr>\n",
       "      <th>15</th>\n",
       "      <td>250702</td>\n",
       "      <td>165406</td>\n",
       "      <td>377364</td>\n",
       "      <td>274586</td>\n",
       "    </tr>\n",
       "    <tr>\n",
       "      <th>16</th>\n",
       "      <td>1264223</td>\n",
       "      <td>843526</td>\n",
       "      <td>1907469</td>\n",
       "      <td>1383529</td>\n",
       "    </tr>\n",
       "    <tr>\n",
       "      <th>17</th>\n",
       "      <td>175824</td>\n",
       "      <td>115321</td>\n",
       "      <td>259234</td>\n",
       "      <td>188287</td>\n",
       "    </tr>\n",
       "    <tr>\n",
       "      <th>18</th>\n",
       "      <td>98983</td>\n",
       "      <td>66756</td>\n",
       "      <td>152037</td>\n",
       "      <td>106026</td>\n",
       "    </tr>\n",
       "    <tr>\n",
       "      <th>19</th>\n",
       "      <td>673715</td>\n",
       "      <td>454245</td>\n",
       "      <td>1017776</td>\n",
       "      <td>741814</td>\n",
       "    </tr>\n",
       "    <tr>\n",
       "      <th>20</th>\n",
       "      <td>245678</td>\n",
       "      <td>164937</td>\n",
       "      <td>371299</td>\n",
       "      <td>269335</td>\n",
       "    </tr>\n",
       "    <tr>\n",
       "      <th>21</th>\n",
       "      <td>16535</td>\n",
       "      <td>10873</td>\n",
       "      <td>24694</td>\n",
       "      <td>17043</td>\n",
       "    </tr>\n",
       "  </tbody>\n",
       "</table>\n",
       "</div>"
      ],
      "text/plain": [
       "region         Midwest  Northeast    South     West\n",
       "department_id                                      \n",
       "1               524096     345032   793786   571829\n",
       "2                 8420       5749    13048     9074\n",
       "3               273869     183764   413650   301145\n",
       "4              2227937    1474885  3351505  2424964\n",
       "5                36186      23327    54839    39344\n",
       "6                63736      41178    94855    69484\n",
       "7               625574     425306   957052   680191\n",
       "8                22355      16551    33319    25491\n",
       "9               203769     134121   305139   223598\n",
       "10                8193       5136    12199     9045\n",
       "11              105749      69429   159736   112658\n",
       "12              166129     110354   250018   182426\n",
       "13              442101     291236   660645   481387\n",
       "14              163551     108522   249303   181657\n",
       "15              250702     165406   377364   274586\n",
       "16             1264223     843526  1907469  1383529\n",
       "17              175824     115321   259234   188287\n",
       "18               98983      66756   152037   106026\n",
       "19              673715     454245  1017776   741814\n",
       "20              245678     164937   371299   269335\n",
       "21               16535      10873    24694    17043"
      ]
     },
     "execution_count": 19,
     "metadata": {},
     "output_type": "execute_result"
    }
   ],
   "source": [
    "ct_region_dep"
   ]
  },
  {
   "cell_type": "code",
   "execution_count": 20,
   "id": "bfa1ab5a",
   "metadata": {},
   "outputs": [
    {
     "data": {
      "image/png": "[encoded data removed]",
      "text/plain": [
       "<Figure size 432x288 with 1 Axes>"
      ]
     },
     "metadata": {
      "needs_background": "light"
     },
     "output_type": "display_data"
    }
   ],
   "source": [
    "reg_dep_bar = ct_region_dep.plot(kind='bar', stacked=True,\n",
    "        title='Departments by region', legend = 'bottom')"
   ]
  },
  {
   "cell_type": "code",
   "execution_count": 21,
   "id": "46acd5f5",
   "metadata": {},
   "outputs": [],
   "source": [
    "#Exporting charts\n",
    "reg_dep_bar.figure.savefig(os.path.join(path, '04 Analysis','Visualisations', 'bar_dep_region.png'))"
   ]
  },
  {
   "cell_type": "markdown",
   "id": "e7fe2234",
   "metadata": {},
   "source": [
    "---region and spending habits---"
   ]
  },
  {
   "cell_type": "code",
   "execution_count": 22,
   "id": "1d766abc",
   "metadata": {},
   "outputs": [],
   "source": [
    "ct_region_spending = pd.crosstab(orders_products_all['region'], orders_products_all['spending_flag'], dropna = False)"
   ]
  },
  {
   "cell_type": "code",
   "execution_count": 23,
   "id": "b5be42d4",
   "metadata": {},
   "outputs": [
    {
     "data": {
      "image/png": "[encoded data removed]",
      "text/plain": [
       "<Figure size 432x288 with 1 Axes>"
      ]
     },
     "metadata": {
      "needs_background": "light"
     },
     "output_type": "display_data"
    }
   ],
   "source": [
    "reg_spend_bar = ct_region_spending.plot(kind='bar', stacked=True,\n",
    "        title='Spending by region')"
   ]
  },
  {
   "cell_type": "code",
   "execution_count": 40,
   "id": "ecb972ae",
   "metadata": {},
   "outputs": [],
   "source": [
    "ct_region_spending.to_clipboard()"
   ]
  },
  {
   "cell_type": "markdown",
   "id": "8da4ef32",
   "metadata": {},
   "source": [
    "---region and frquency---"
   ]
  },
  {
   "cell_type": "code",
   "execution_count": 24,
   "id": "20ca3420",
   "metadata": {},
   "outputs": [],
   "source": [
    "ct_region_freq = pd.crosstab(orders_products_all['region'], orders_products_all['order_frequency'], dropna = False)"
   ]
  },
  {
   "cell_type": "code",
   "execution_count": 43,
   "id": "4c9460f3",
   "metadata": {},
   "outputs": [
    {
     "data": {
      "text/html": [
       "<div>\n",
       "<style scoped>\n",
       "    .dataframe tbody tr th:only-of-type {\n",
       "        vertical-align: middle;\n",
       "    }\n",
       "\n",
       "    .dataframe tbody tr th {\n",
       "        vertical-align: top;\n",
       "    }\n",
       "\n",
       "    .dataframe thead th {\n",
       "        text-align: right;\n",
       "    }\n",
       "</style>\n",
       "<table border=\"1\" class=\"dataframe\">\n",
       "  <thead>\n",
       "    <tr style=\"text-align: right;\">\n",
       "      <th>order_frequency</th>\n",
       "      <th>0.0</th>\n",
       "      <th>0.5</th>\n",
       "      <th>1.0</th>\n",
       "      <th>1.5</th>\n",
       "      <th>2.0</th>\n",
       "      <th>2.5</th>\n",
       "      <th>3.0</th>\n",
       "      <th>3.5</th>\n",
       "      <th>4.0</th>\n",
       "      <th>4.5</th>\n",
       "      <th>...</th>\n",
       "      <th>25.5</th>\n",
       "      <th>26.0</th>\n",
       "      <th>26.5</th>\n",
       "      <th>27.0</th>\n",
       "      <th>27.5</th>\n",
       "      <th>28.0</th>\n",
       "      <th>28.5</th>\n",
       "      <th>29.0</th>\n",
       "      <th>29.5</th>\n",
       "      <th>30.0</th>\n",
       "    </tr>\n",
       "    <tr>\n",
       "      <th>region</th>\n",
       "      <th></th>\n",
       "      <th></th>\n",
       "      <th></th>\n",
       "      <th></th>\n",
       "      <th></th>\n",
       "      <th></th>\n",
       "      <th></th>\n",
       "      <th></th>\n",
       "      <th></th>\n",
       "      <th></th>\n",
       "      <th></th>\n",
       "      <th></th>\n",
       "      <th></th>\n",
       "      <th></th>\n",
       "      <th></th>\n",
       "      <th></th>\n",
       "      <th></th>\n",
       "      <th></th>\n",
       "      <th></th>\n",
       "      <th></th>\n",
       "      <th></th>\n",
       "    </tr>\n",
       "  </thead>\n",
       "  <tbody>\n",
       "    <tr>\n",
       "      <th>Midwest</th>\n",
       "      <td>7186</td>\n",
       "      <td>63</td>\n",
       "      <td>30044</td>\n",
       "      <td>70</td>\n",
       "      <td>122981</td>\n",
       "      <td>880</td>\n",
       "      <td>351820</td>\n",
       "      <td>3383</td>\n",
       "      <td>528418</td>\n",
       "      <td>7206</td>\n",
       "      <td>...</td>\n",
       "      <td>2565</td>\n",
       "      <td>35767</td>\n",
       "      <td>1828</td>\n",
       "      <td>43276</td>\n",
       "      <td>1709</td>\n",
       "      <td>47688</td>\n",
       "      <td>1495</td>\n",
       "      <td>31581</td>\n",
       "      <td>1042</td>\n",
       "      <td>395811</td>\n",
       "    </tr>\n",
       "    <tr>\n",
       "      <th>Northeast</th>\n",
       "      <td>5752</td>\n",
       "      <td>25</td>\n",
       "      <td>27881</td>\n",
       "      <td>111</td>\n",
       "      <td>95002</td>\n",
       "      <td>315</td>\n",
       "      <td>220088</td>\n",
       "      <td>2454</td>\n",
       "      <td>362622</td>\n",
       "      <td>5249</td>\n",
       "      <td>...</td>\n",
       "      <td>931</td>\n",
       "      <td>26121</td>\n",
       "      <td>482</td>\n",
       "      <td>25966</td>\n",
       "      <td>557</td>\n",
       "      <td>32663</td>\n",
       "      <td>1069</td>\n",
       "      <td>22504</td>\n",
       "      <td>745</td>\n",
       "      <td>263090</td>\n",
       "    </tr>\n",
       "    <tr>\n",
       "      <th>South</th>\n",
       "      <td>12746</td>\n",
       "      <td>103</td>\n",
       "      <td>51655</td>\n",
       "      <td>1243</td>\n",
       "      <td>196204</td>\n",
       "      <td>3785</td>\n",
       "      <td>539469</td>\n",
       "      <td>3147</td>\n",
       "      <td>812112</td>\n",
       "      <td>11411</td>\n",
       "      <td>...</td>\n",
       "      <td>2407</td>\n",
       "      <td>59514</td>\n",
       "      <td>1818</td>\n",
       "      <td>60391</td>\n",
       "      <td>2302</td>\n",
       "      <td>68666</td>\n",
       "      <td>2237</td>\n",
       "      <td>49233</td>\n",
       "      <td>1832</td>\n",
       "      <td>594372</td>\n",
       "    </tr>\n",
       "    <tr>\n",
       "      <th>West</th>\n",
       "      <td>8556</td>\n",
       "      <td>44</td>\n",
       "      <td>42538</td>\n",
       "      <td>260</td>\n",
       "      <td>146977</td>\n",
       "      <td>2269</td>\n",
       "      <td>368610</td>\n",
       "      <td>3484</td>\n",
       "      <td>611137</td>\n",
       "      <td>5630</td>\n",
       "      <td>...</td>\n",
       "      <td>2007</td>\n",
       "      <td>40549</td>\n",
       "      <td>1386</td>\n",
       "      <td>43587</td>\n",
       "      <td>1031</td>\n",
       "      <td>50887</td>\n",
       "      <td>1750</td>\n",
       "      <td>33601</td>\n",
       "      <td>1476</td>\n",
       "      <td>430577</td>\n",
       "    </tr>\n",
       "  </tbody>\n",
       "</table>\n",
       "<p>4 rows × 61 columns</p>\n",
       "</div>"
      ],
      "text/plain": [
       "order_frequency   0.0   0.5    1.0   1.5     2.0   2.5     3.0   3.5     4.0   \\\n",
       "region                                                                          \n",
       "Midwest           7186    63  30044    70  122981   880  351820  3383  528418   \n",
       "Northeast         5752    25  27881   111   95002   315  220088  2454  362622   \n",
       "South            12746   103  51655  1243  196204  3785  539469  3147  812112   \n",
       "West              8556    44  42538   260  146977  2269  368610  3484  611137   \n",
       "\n",
       "order_frequency   4.5   ...  25.5   26.0  26.5   27.0  27.5   28.0  28.5  \\\n",
       "region                  ...                                                \n",
       "Midwest           7206  ...  2565  35767  1828  43276  1709  47688  1495   \n",
       "Northeast         5249  ...   931  26121   482  25966   557  32663  1069   \n",
       "South            11411  ...  2407  59514  1818  60391  2302  68666  2237   \n",
       "West              5630  ...  2007  40549  1386  43587  1031  50887  1750   \n",
       "\n",
       "order_frequency   29.0  29.5    30.0  \n",
       "region                                \n",
       "Midwest          31581  1042  395811  \n",
       "Northeast        22504   745  263090  \n",
       "South            49233  1832  594372  \n",
       "West             33601  1476  430577  \n",
       "\n",
       "[4 rows x 61 columns]"
      ]
     },
     "execution_count": 43,
     "metadata": {},
     "output_type": "execute_result"
    }
   ],
   "source": [
    "ct_region_freq"
   ]
  },
  {
   "cell_type": "code",
   "execution_count": 26,
   "id": "873236fc",
   "metadata": {},
   "outputs": [],
   "source": [
    "COLORS= {'West':'blue','South':'orange','Northeast':'green','Midwest':'yellow'}"
   ]
  },
  {
   "cell_type": "code",
   "execution_count": 37,
   "id": "dd1ac144",
   "metadata": {},
   "outputs": [
    {
     "data": {
      "image/png": "[encoded data removed]",
      "text/plain": [
       "<Figure size 432x288 with 1 Axes>"
      ]
     },
     "metadata": {
      "needs_background": "light"
     },
     "output_type": "display_data"
    }
   ],
   "source": [
    "gk = small.groupby(\"region\")\n",
    "x = np.arange(len(small))\n",
    "index = 0\n",
    "for region_name, region_group in gk:\n",
    "    sns.lineplot(\n",
    "        x=x[index : index + len(region_group)],\n",
    "        y=region_group.order_frequency,\n",
    "        color=COLORS.get(region_name),\n",
    "    )\n",
    "    index += len(region_group)\n",
    "plt.show()"
   ]
  },
  {
   "cell_type": "markdown",
   "id": "fad455d7",
   "metadata": {},
   "source": [
    "---region and prices ---"
   ]
  },
  {
   "cell_type": "code",
   "execution_count": 41,
   "id": "71e7b4ea",
   "metadata": {},
   "outputs": [],
   "source": [
    "ct_region_price = pd.crosstab(orders_products_all['region'], orders_products_all['price_range'], dropna = False)"
   ]
  },
  {
   "cell_type": "code",
   "execution_count": 42,
   "id": "53a01e37",
   "metadata": {},
   "outputs": [],
   "source": [
    "ct_region_price.to_clipboard()"
   ]
  },
  {
   "cell_type": "markdown",
   "id": "e0cc93b1",
   "metadata": {},
   "source": [
    "# 3.7 Loyalty and spending"
   ]
  },
  {
   "cell_type": "code",
   "execution_count": 47,
   "id": "93e58e15",
   "metadata": {},
   "outputs": [],
   "source": [
    "ct_loyalty_spending = pd.crosstab(orders_products_all['loyalty_flag'], orders_products_all['spending_flag'], dropna=False)"
   ]
  },
  {
   "cell_type": "code",
   "execution_count": 36,
   "id": "7900b987",
   "metadata": {},
   "outputs": [
    {
     "data": {
      "image/png": "[encoded data removed]",
      "text/plain": [
       "<Figure size 432x288 with 1 Axes>"
      ]
     },
     "metadata": {
      "needs_background": "light"
     },
     "output_type": "display_data"
    }
   ],
   "source": [
    "loyal_spend_bar = ct_loyalty_spending.plot(kind='bar', stacked=True, title=\"Spending behaviour and customer loyalty\")"
   ]
  },
  {
   "cell_type": "code",
   "execution_count": 39,
   "id": "a606a33b",
   "metadata": {},
   "outputs": [],
   "source": [
    "ct_loyalty_spending.to_clipboard()"
   ]
  },
  {
   "cell_type": "code",
   "execution_count": null,
   "id": "699cf4af",
   "metadata": {},
   "outputs": [],
   "source": []
  }
 ],
 "metadata": {
  "kernelspec": {
   "display_name": "Python 3 (ipykernel)",
   "language": "python",
   "name": "python3"
  },
  "language_info": {
   "codemirror_mode": {
    "name": "ipython",
    "version": 3
   },
   "file_extension": ".py",
   "mimetype": "text/x-python",
   "name": "python",
   "nbconvert_exporter": "python",
   "pygments_lexer": "ipython3",
   "version": "3.9.12"
  }
 },
 "nbformat": 4,
 "nbformat_minor": 5
}
